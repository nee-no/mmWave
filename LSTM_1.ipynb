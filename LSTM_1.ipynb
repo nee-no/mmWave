{
  "nbformat": 4,
  "nbformat_minor": 0,
  "metadata": {
    "colab": {
      "name": "LSTM_1",
      "provenance": [],
      "collapsed_sections": [],
      "include_colab_link": true
    },
    "kernelspec": {
      "name": "python3",
      "display_name": "Python 3"
    },
    "accelerator": "GPU"
  },
  "cells": [
    {
      "cell_type": "markdown",
      "metadata": {
        "id": "view-in-github",
        "colab_type": "text"
      },
      "source": [
        "<a href=\"https://colab.research.google.com/github/nee-no/mmWave/blob/master/LSTM_1.ipynb\" target=\"_parent\"><img src=\"https://colab.research.google.com/assets/colab-badge.svg\" alt=\"Open In Colab\"/></a>"
      ]
    },
    {
      "cell_type": "code",
      "metadata": {
        "id": "RJ395EzCSH6_",
        "colab_type": "code",
        "outputId": "965f2603-dc38-4b82-c4ec-b7596124ae0e",
        "colab": {
          "base_uri": "https://localhost:8080/",
          "height": 122
        }
      },
      "source": [
        "from google.colab import drive\n",
        "drive.mount('/content/drive')\n"
      ],
      "execution_count": 0,
      "outputs": [
        {
          "output_type": "stream",
          "text": [
            "Go to this URL in a browser: https://accounts.google.com/o/oauth2/auth?client_id=947318989803-6bn6qk8qdgf4n4g3pfee6491hc0brc4i.apps.googleusercontent.com&redirect_uri=urn%3Aietf%3Awg%3Aoauth%3A2.0%3Aoob&scope=email%20https%3A%2F%2Fwww.googleapis.com%2Fauth%2Fdocs.test%20https%3A%2F%2Fwww.googleapis.com%2Fauth%2Fdrive%20https%3A%2F%2Fwww.googleapis.com%2Fauth%2Fdrive.photos.readonly%20https%3A%2F%2Fwww.googleapis.com%2Fauth%2Fpeopleapi.readonly&response_type=code\n",
            "\n",
            "Enter your authorization code:\n",
            "··········\n",
            "Mounted at /content/drive\n"
          ],
          "name": "stdout"
        }
      ]
    },
    {
      "cell_type": "code",
      "metadata": {
        "id": "q6yxwP_wSoSc",
        "colab_type": "code",
        "outputId": "d4184b80-1820-4897-d4af-43afa78536bf",
        "colab": {
          "base_uri": "https://localhost:8080/",
          "height": 34
        }
      },
      "source": [
        "import numpy as np\n",
        "import os\n",
        "import csv\n",
        "import re\n",
        "import sys\n",
        "import math\n",
        "from sklearn.preprocessing import LabelBinarizer\n",
        "import tensorflow as tf\n",
        "from sklearn.utils import shuffle\n",
        "\n",
        "device_name = tf.test.gpu_device_name()\n",
        "if device_name != '/device:GPU:0':\n",
        "  raise SystemError('GPU device not found')\n",
        "print('Found GPU at: {}'.format(device_name))\n"
      ],
      "execution_count": 0,
      "outputs": [
        {
          "output_type": "stream",
          "text": [
            "Found GPU at: /device:GPU:0\n"
          ],
          "name": "stdout"
        }
      ]
    },
    {
      "cell_type": "code",
      "metadata": {
        "id": "ExWX-FrMSp2A",
        "colab_type": "code",
        "outputId": "a27f47ab-9162-4c2b-ce01-9dae18c93e28",
        "colab": {
          "base_uri": "https://localhost:8080/",
          "height": 34
        }
      },
      "source": [
        "import random\n",
        "\n",
        "def generate_array(mode=\"train\"):\n",
        "    #global current_timestep\n",
        "    while True:\n",
        "      in_folder = os.path.join(\"/content\",\"drive\",\"My Drive\",\"Colab Notebooks\",\"lstm_data\")\n",
        "      reorder = 0\n",
        "\n",
        "      if(mode==\"train\"):\n",
        "        current_timestep = random.randint(0, 39)\n",
        "        if current_timestep >=31:\n",
        "          reorder = 1\n",
        "        else:\n",
        "          reorder = 0\n",
        "\n",
        "      elif(mode==\"valid\"):\n",
        "        current_timestep = random.randint(40, 45)\n",
        "        \n",
        "      elif(mode==\"test\"):\n",
        "        current_timestep = random.randint(45, 49)\n",
        "      \n",
        "      x = np.load(os.path.join(in_folder, \"in_step{}.npy\".format(current_timestep)))\n",
        "      y = np.load(os.path.join(in_folder, \"out_step{}.npy\".format(current_timestep)))\n",
        "\n",
        "      if reorder:\n",
        "        max_num = 40\n",
        "        repeat_last = 10 - (max_num - current_timestep)\n",
        "\n",
        "        X = x[:,0:(10-repeat_last),:]\n",
        "        Y = y[:,0:(10-repeat_last),:]\n",
        "        X_new = np.zeros((X.shape[0], 10, X.shape[2]))\n",
        "        Y_new = np.zeros((Y.shape[0], 10, Y.shape[2]))\n",
        "\n",
        "        for k in range(0, X.shape[0]):\n",
        "            for i in range(0, X_new.shape[1]):\n",
        "                if i < X.shape[1]:\n",
        "                    X_new[k,i,:] = X[k,i,:]\n",
        "                    Y_new[k,i,:] = Y[k,i,:]\n",
        "                else:\n",
        "                    X_new[k,i,:] = X_new[k,i-1,:]\n",
        "                    Y_new[k,i,:] = Y_new[k,i-1,:]\n",
        "        X = X_new\n",
        "        Y = Y_new\n",
        "\n",
        "      X, Y = shuffle(x, y)\n",
        "\n",
        "      yield (X,Y)\n",
        "\n",
        "X_valid = np.load(os.path.join(\"/content\",\"drive\",\"My Drive\",\"Colab Notebooks\",\"lstm_data\", \"in_step40.npy\"))\n",
        "Y_valid = np.load(os.path.join(\"/content\",\"drive\",\"My Drive\",\"Colab Notebooks\",\"lstm_data\", \"out_step40.npy\"))\n",
        "X_valid = X_valid[:,0:5]\n",
        "Y_valid = Y_valid[:,0:5]\n",
        "X_test = np.load(os.path.join(\"/content\",\"drive\",\"My Drive\",\"Colab Notebooks\",\"lstm_data\", \"in_step45.npy\"))\n",
        "Y_test = np.load(os.path.join(\"/content\",\"drive\",\"My Drive\",\"Colab Notebooks\",\"lstm_data\", \"out_step45.npy\"))\n",
        "X_test = X_test[:,0:5]\n",
        "Y_test = Y_test[:,0:5]\n",
        "\n",
        "print(X_valid.shape, Y_valid.shape, X_test.shape, Y_test.shape)"
      ],
      "execution_count": 0,
      "outputs": [
        {
          "output_type": "stream",
          "text": [
            "(863, 5, 23000) (863, 5, 61) (863, 5, 23000) (863, 5, 61)\n"
          ],
          "name": "stdout"
        }
      ]
    },
    {
      "cell_type": "code",
      "metadata": {
        "id": "IDkrXkDJV689",
        "colab_type": "code",
        "outputId": "de5c2eb8-c2df-4647-831f-ce34e844a023",
        "colab": {
          "base_uri": "https://localhost:8080/",
          "height": 666
        }
      },
      "source": [
        "!pip install livelossplot"
      ],
      "execution_count": 0,
      "outputs": [
        {
          "output_type": "stream",
          "text": [
            "Requirement already satisfied: livelossplot in /usr/local/lib/python3.6/dist-packages (0.4.1)\n",
            "Requirement already satisfied: matplotlib in /usr/local/lib/python3.6/dist-packages (from livelossplot) (3.0.3)\n",
            "Requirement already satisfied: notebook in /usr/local/lib/python3.6/dist-packages (from livelossplot) (5.2.2)\n",
            "Requirement already satisfied: cycler>=0.10 in /usr/local/lib/python3.6/dist-packages (from matplotlib->livelossplot) (0.10.0)\n",
            "Requirement already satisfied: pyparsing!=2.0.4,!=2.1.2,!=2.1.6,>=2.0.1 in /usr/local/lib/python3.6/dist-packages (from matplotlib->livelossplot) (2.4.2)\n",
            "Requirement already satisfied: numpy>=1.10.0 in /usr/local/lib/python3.6/dist-packages (from matplotlib->livelossplot) (1.16.5)\n",
            "Requirement already satisfied: kiwisolver>=1.0.1 in /usr/local/lib/python3.6/dist-packages (from matplotlib->livelossplot) (1.1.0)\n",
            "Requirement already satisfied: python-dateutil>=2.1 in /usr/local/lib/python3.6/dist-packages (from matplotlib->livelossplot) (2.5.3)\n",
            "Requirement already satisfied: nbconvert in /usr/local/lib/python3.6/dist-packages (from notebook->livelossplot) (5.6.0)\n",
            "Requirement already satisfied: jupyter-core in /usr/local/lib/python3.6/dist-packages (from notebook->livelossplot) (4.5.0)\n",
            "Requirement already satisfied: traitlets>=4.2.1 in /usr/local/lib/python3.6/dist-packages (from notebook->livelossplot) (4.3.2)\n",
            "Requirement already satisfied: terminado>=0.3.3; sys_platform != \"win32\" in /usr/local/lib/python3.6/dist-packages (from notebook->livelossplot) (0.8.2)\n",
            "Requirement already satisfied: nbformat in /usr/local/lib/python3.6/dist-packages (from notebook->livelossplot) (4.4.0)\n",
            "Requirement already satisfied: ipython-genutils in /usr/local/lib/python3.6/dist-packages (from notebook->livelossplot) (0.2.0)\n",
            "Requirement already satisfied: tornado>=4 in /usr/local/lib/python3.6/dist-packages (from notebook->livelossplot) (4.5.3)\n",
            "Requirement already satisfied: jupyter-client in /usr/local/lib/python3.6/dist-packages (from notebook->livelossplot) (5.3.1)\n",
            "Requirement already satisfied: jinja2 in /usr/local/lib/python3.6/dist-packages (from notebook->livelossplot) (2.10.1)\n",
            "Requirement already satisfied: ipykernel in /usr/local/lib/python3.6/dist-packages (from notebook->livelossplot) (4.6.1)\n",
            "Requirement already satisfied: six in /usr/local/lib/python3.6/dist-packages (from cycler>=0.10->matplotlib->livelossplot) (1.12.0)\n",
            "Requirement already satisfied: setuptools in /usr/local/lib/python3.6/dist-packages (from kiwisolver>=1.0.1->matplotlib->livelossplot) (41.2.0)\n",
            "Requirement already satisfied: defusedxml in /usr/local/lib/python3.6/dist-packages (from nbconvert->notebook->livelossplot) (0.6.0)\n",
            "Requirement already satisfied: pygments in /usr/local/lib/python3.6/dist-packages (from nbconvert->notebook->livelossplot) (2.1.3)\n",
            "Requirement already satisfied: bleach in /usr/local/lib/python3.6/dist-packages (from nbconvert->notebook->livelossplot) (3.1.0)\n",
            "Requirement already satisfied: mistune<2,>=0.8.1 in /usr/local/lib/python3.6/dist-packages (from nbconvert->notebook->livelossplot) (0.8.4)\n",
            "Requirement already satisfied: entrypoints>=0.2.2 in /usr/local/lib/python3.6/dist-packages (from nbconvert->notebook->livelossplot) (0.3)\n",
            "Requirement already satisfied: pandocfilters>=1.4.1 in /usr/local/lib/python3.6/dist-packages (from nbconvert->notebook->livelossplot) (1.4.2)\n",
            "Requirement already satisfied: testpath in /usr/local/lib/python3.6/dist-packages (from nbconvert->notebook->livelossplot) (0.4.2)\n",
            "Requirement already satisfied: decorator in /usr/local/lib/python3.6/dist-packages (from traitlets>=4.2.1->notebook->livelossplot) (4.4.0)\n",
            "Requirement already satisfied: ptyprocess; os_name != \"nt\" in /usr/local/lib/python3.6/dist-packages (from terminado>=0.3.3; sys_platform != \"win32\"->notebook->livelossplot) (0.6.0)\n",
            "Requirement already satisfied: jsonschema!=2.5.0,>=2.4 in /usr/local/lib/python3.6/dist-packages (from nbformat->notebook->livelossplot) (2.6.0)\n",
            "Requirement already satisfied: pyzmq>=13 in /usr/local/lib/python3.6/dist-packages (from jupyter-client->notebook->livelossplot) (17.0.0)\n",
            "Requirement already satisfied: MarkupSafe>=0.23 in /usr/local/lib/python3.6/dist-packages (from jinja2->notebook->livelossplot) (1.1.1)\n",
            "Requirement already satisfied: ipython>=4.0.0 in /usr/local/lib/python3.6/dist-packages (from ipykernel->notebook->livelossplot) (5.5.0)\n",
            "Requirement already satisfied: webencodings in /usr/local/lib/python3.6/dist-packages (from bleach->nbconvert->notebook->livelossplot) (0.5.1)\n",
            "Requirement already satisfied: prompt-toolkit<2.0.0,>=1.0.4 in /usr/local/lib/python3.6/dist-packages (from ipython>=4.0.0->ipykernel->notebook->livelossplot) (1.0.16)\n",
            "Requirement already satisfied: pexpect; sys_platform != \"win32\" in /usr/local/lib/python3.6/dist-packages (from ipython>=4.0.0->ipykernel->notebook->livelossplot) (4.7.0)\n",
            "Requirement already satisfied: pickleshare in /usr/local/lib/python3.6/dist-packages (from ipython>=4.0.0->ipykernel->notebook->livelossplot) (0.7.5)\n",
            "Requirement already satisfied: simplegeneric>0.8 in /usr/local/lib/python3.6/dist-packages (from ipython>=4.0.0->ipykernel->notebook->livelossplot) (0.8.1)\n",
            "Requirement already satisfied: wcwidth in /usr/local/lib/python3.6/dist-packages (from prompt-toolkit<2.0.0,>=1.0.4->ipython>=4.0.0->ipykernel->notebook->livelossplot) (0.1.7)\n"
          ],
          "name": "stdout"
        }
      ]
    },
    {
      "cell_type": "code",
      "metadata": {
        "id": "X7K3-ltySsbv",
        "colab_type": "code",
        "outputId": "5f37a5ed-0baf-43e2-bea8-f32de1d7c84f",
        "colab": {
          "base_uri": "https://localhost:8080/",
          "height": 492
        }
      },
      "source": [
        "from tensorflow.keras.models import Sequential\n",
        "from tensorflow.keras.layers import LSTM, Dropout, TimeDistributed, Activation, Dense, Bidirectional\n",
        "from tensorflow.keras.optimizers import SGD, Adam, Adadelta\n",
        "from tensorflow.keras.callbacks import EarlyStopping\n",
        "from tensorflow.keras.callbacks import ModelCheckpoint, CSVLogger\n",
        "from livelossplot import PlotLossesKeras\n",
        "\n",
        "model = Sequential()\n",
        "model.add(Bidirectional(LSTM(40, return_sequences=True), input_shape=(None,23000)))\n",
        "model.add(Bidirectional(LSTM(20, return_sequences=True)))\n",
        "model.add(TimeDistributed(Dense(128, activation=\"relu\")))\n",
        "model.add(TimeDistributed(Dropout(0.5)))\n",
        "model.add(TimeDistributed(Dense(61, activation=\"softmax\")))\n",
        "model.compile(loss=tf.keras.losses.categorical_crossentropy,\n",
        "              #optimizer=tf.keras.optimizers.Adadelta(lr=1.0),\n",
        "              optimizer=tf.keras.optimizers.SGD(lr=0.0052),\n",
        "              #optimizer=tf.keras.optimizers.Adam(),\n",
        "              metrics=['accuracy'])\n",
        "model.summary()\n",
        "\n",
        "es = EarlyStopping(monitor='val_loss', mode='min', verbose=1, patience=100)\n",
        "\n",
        "checkpoint_path = \"/content/drive/My Drive/Colab Notebooks/lstm_models/cp-{epoch:04d}.ckpt\"\n",
        "checkpoint_dir = os.path.dirname(checkpoint_path)\n",
        "\n",
        "cp_callback = tf.keras.callbacks.ModelCheckpoint(\n",
        "    checkpoint_path, monitor='val_loss',mode='min', verbose=1, save_best_only=True)\n",
        "csv_logger = CSVLogger('/content/drive/My Drive/Colab Notebooks/lstm_models/training1_1.log', append=True, separator=',')\n",
        "\n",
        "model.load_weights('/content/drive/My Drive/Colab Notebooks/lstm_models/cp-0011.ckpt')\n",
        "\n",
        "history = model.fit_generator(\n",
        "    generate_array(mode=\"train\"),\n",
        "    steps_per_epoch = 863,\n",
        "    validation_data = (X_valid, Y_valid),\n",
        "    validation_steps = 863,\n",
        "    epochs = 200,\n",
        "    verbose=1,\n",
        "    shuffle=True,\n",
        "    initial_epoch = 11,\n",
        "    callbacks=[es, cp_callback, csv_logger, PlotLossesKeras()])\n",
        "    #validation_data=(X_test, y_test)\n",
        "    "
      ],
      "execution_count": 0,
      "outputs": [
        {
          "output_type": "display_data",
          "data": {
            "image/png": "[encoded data removed]",
            "text/plain": [
              "<Figure size 864x576 with 2 Axes>"
            ]
          },
          "metadata": {
            "tags": []
          }
        },
        {
          "output_type": "stream",
          "text": [
            "Log-loss (cost function):\n",
            "training   (min:    0.157, max:    0.488, cur:    0.172)\n",
            "validation (min:    0.227, max:    0.586, cur:    0.227)\n",
            "\n",
            "Accuracy:\n",
            "training   (min:    0.880, max:    0.963, cur:    0.960)\n",
            "validation (min:    0.857, max:    0.945, cur:    0.943)\n",
            "\b\b\b\b\b\b\b\b\b\b\b\b\b\b\b\b\b\b\b\b\b\b\b\b\b\b\b\b\b\b\b\b\b\b\b\b\b\b\b\b\b\b\b\b\b\b\b\b\b\b\b\b\b\b\b\b\b\b\b\b\b\b\b\b\b\b\b\b\b\b\b\b\b\b\b\b\b\b\b\r863/863 [==============================] - 1215s 1s/step - loss: 0.1718 - acc: 0.9598 - val_loss: 0.2272 - val_acc: 0.9432\n",
            "Epoch 47/200\n",
            " 42/863 [>.............................] - ETA: 21:52 - loss: 0.1483 - acc: 0.9651"
          ],
          "name": "stdout"
        }
      ]
    },
    {
      "cell_type": "code",
      "metadata": {
        "id": "xTJd3By1SwMh",
        "colab_type": "code",
        "colab": {}
      },
      "source": [
        "import matplotlib.pyplot as plt\n",
        "\n",
        "val_acc = history.history['val_acc']\n",
        "acc = history.history['acc']\n",
        "loss = history.history['loss']\n",
        "val_loss = history.history['val_loss']\n",
        "\n",
        "epoch_num = np.arange(0, len(val_acc), dtype=int)\n",
        "plot1, = plt.plot(epoch_num, acc)\n",
        "plot2, = plt.plot(epoch_num, val_acc)\n",
        "plt.legend([plot1, plot2],['training accuracy', 'validation accuracy'])\n",
        "plt.show()\n",
        "plot1, = plt.plot(epoch_num, loss)\n",
        "plot2, = plt.plot(epoch_num, val_loss)\n",
        "plt.legend([plot1, plot2],['training loss', 'validation loss'])\n"
      ],
      "execution_count": 0,
      "outputs": []
    },
    {
      "cell_type": "code",
      "metadata": {
        "id": "lSKVuZejSx2D",
        "colab_type": "code",
        "colab": {}
      },
      "source": [
        "import requests\n",
        "\n",
        "def telegram(message):\n",
        "\n",
        "    bot_token = '923260274:AAHyCqG6jpPI_xo0x2wJvhGVA_oeUnMf41Y'\n",
        "    bot_chatID = '763781536'\n",
        "    send = 'https://api.telegram.org/bot' + bot_token + '/sendMessage?chat_id=' + bot_chatID + '&parse_mode=Markdown&text=' + message\n",
        "    try:\n",
        "        response = requests.get(send)\n",
        "        response.raise_for_status()\n",
        "    except requests.exceptions.RequestException as err:\n",
        "        print (\"OOps: Something Else\",err)\n",
        "    except requests.exceptions.HTTPError as errh:\n",
        "        print (\"Http Error:\",errh)\n",
        "    except requests.exceptions.ConnectionError as errc:\n",
        "        print (\"Error Connecting:\",errc)\n",
        "    except requests.exceptions.Timeout as errt:\n",
        "        print (\"Timeout Error:\",errt)  \n",
        "    return response.json()\n",
        "\n",
        "telegram(\"LSTM bidirectional done!\")\n",
        "\n",
        "train_result = model.evaluate_generator(\n",
        "    generate_array(mode=\"train\"), \n",
        "    steps = 863,\n",
        "    verbose=0)\n",
        "print('training loss:',train_result[0])\n",
        "print('training accuracy:', train_result[1])\n",
        "\n",
        "valid_result = model.evaluate(X_valid, Y_valid, verbose=0)\n",
        "print('validation loss:',valid_result[0])\n",
        "print('validation accuracy:', valid_result[1])\n",
        "\n",
        "test_result = model.evaluate(X_test, Y_test, verbose=0)\n",
        "print('testing loss:',test_result[0])\n",
        "print('testing accuracy:', test_result[1])\n",
        "\n",
        "message = \"LSTM\\n\" + \"test_loss :\" + str(test_result[0]) + \"\\n\" + \"test_acc :\" + str(test_result[1])  + \"\\n\" + \"valid_loss :\" + str(valid_result[0]) + \"\\n\" + \"valid_acc :\" + str(valid_result[1]) + \"\\n\" + \"train_loss :\" + str(train_result[0]) + \"\\n\" + \"train_acc :\" + str(train_result[1]) \n",
        "telegram(message)"
      ],
      "execution_count": 0,
      "outputs": []
    },
    {
      "cell_type": "code",
      "metadata": {
        "id": "bjpVD53YWM7L",
        "colab_type": "code",
        "colab": {}
      },
      "source": [
        "print('training loss:',train_result[0])\n",
        "print('training accuracy:', train_result[1])\n",
        "\n",
        "print('validation loss:',valid_result[0])\n",
        "print('validation accuracy:', valid_result[1])\n",
        "\n",
        "print('testing loss:',test_result[0])\n",
        "print('testing accuracy:', test_result[1])"
      ],
      "execution_count": 0,
      "outputs": []
    },
    {
      "cell_type": "code",
      "metadata": {
        "id": "lAibi0TmMwEl",
        "colab_type": "code",
        "colab": {}
      },
      "source": [
        "val_acc = history.history['val_acc']\n",
        "acc = history.history['acc']\n",
        "loss = history.history['loss']\n",
        "val_loss = history.history['val_loss']\n",
        "\n",
        "np.savez('/content/drive/My Drive/Colab Notebooks/lstm_models/val_acc.npz', acc=acc, loss=loss, val_acc=val_acc, val_loss=val_loss)"
      ],
      "execution_count": 0,
      "outputs": []
    },
    {
      "cell_type": "code",
      "metadata": {
        "id": "8XQPZadNQhP5",
        "colab_type": "code",
        "outputId": "0c61543c-0b6d-420e-9f68-590fd3c1952a",
        "colab": {
          "base_uri": "https://localhost:8080/",
          "height": 864
        }
      },
      "source": [
        "from google.colab import drive\n",
        "drive.mount('/content/drive')\n",
        "\n",
        "import numpy as np\n",
        "import csv\n",
        "import matplotlib.pyplot as plt\n",
        "%matplotlib inline\n",
        "\n",
        "epoch = []\n",
        "acc = []\n",
        "loss = []\n",
        "val_acc = []\n",
        "val_loss = []\n",
        "\n",
        "with open('/content/drive/My Drive/Colab Notebooks/lstm_models/training1_compiled.log') as csvfile:\n",
        "    readCSV = csv.reader(csvfile, delimiter=',')\n",
        "    for row in readCSV:\n",
        "      # epoch,acc,loss,val_acc,val_loss\n",
        "      epoch.append(int(row[0]))\n",
        "      acc.append(float(row[1]))\n",
        "      loss.append(float(row[2]))\n",
        "      val_acc.append(float(row[3]))\n",
        "      val_loss.append(float(row[4]))\n",
        "\n",
        "plot1, = plt.plot(epoch, acc)\n",
        "plot2, = plt.plot(epoch, val_acc)\n",
        "plt.legend([plot1, plot2],['training accuracy', 'validation accuracy'])\n",
        "plt.show()\n",
        "\n",
        "plot1, = plt.plot(epoch, loss)\n",
        "plot2, = plt.plot(epoch, val_loss)\n",
        "plt.legend([plot1, plot2],['training loss', 'validation loss'])\n",
        "plt.show()\n",
        "\n",
        "from tensorflow.keras.models import Sequential\n",
        "from tensorflow.keras.layers import LSTM, Dropout, TimeDistributed, Activation, Dense, Bidirectional\n",
        "from tensorflow.keras.optimizers import SGD, Adam, Adadelta\n",
        "from tensorflow.keras.callbacks import EarlyStopping\n",
        "from tensorflow.keras.callbacks import ModelCheckpoint, CSVLogger\n",
        "\n",
        "model = Sequential()\n",
        "model.add(Bidirectional(LSTM(40, return_sequences=True), input_shape=(None,23000)))\n",
        "model.add(Bidirectional(LSTM(20, return_sequences=True)))\n",
        "model.add(TimeDistributed(Dense(128, activation=\"relu\")))\n",
        "model.add(TimeDistributed(Dropout(0.5)))\n",
        "model.add(TimeDistributed(Dense(61, activation=\"softmax\")))\n",
        "model.compile(loss=tf.keras.losses.categorical_crossentropy,\n",
        "              #optimizer=tf.keras.optimizers.Adadelta(lr=1.0),\n",
        "              optimizer=tf.keras.optimizers.SGD(lr=0.0052),\n",
        "              #optimizer=tf.keras.optimizers.Adam(),\n",
        "              metrics=['accuracy'])\n",
        "\n",
        "model.load_weights('/content/drive/My Drive/Colab Notebooks/lstm_models/cp-0133.ckpt')\n",
        "\n",
        "\n",
        "train_result = model.evaluate_generator(\n",
        "    generate_array(mode=\"train\"), \n",
        "    steps = 863,\n",
        "    verbose=0)\n",
        "print('training loss:',train_result[0])\n",
        "print('training accuracy:', train_result[1])\n",
        "\n",
        "valid_result = model.evaluate(X_valid, Y_valid, verbose=0)\n",
        "print('validation loss:',valid_result[0])\n",
        "print('validation accuracy:', valid_result[1])\n",
        "\n",
        "test_result = model.evaluate(X_test, Y_test, verbose=0)\n",
        "print('testing loss:',test_result[0])\n",
        "print('testing accuracy:', test_result[1])"
      ],
      "execution_count": 0,
      "outputs": [
        {
          "output_type": "stream",
          "text": [
            "Drive already mounted at /content/drive; to attempt to forcibly remount, call drive.mount(\"/content/drive\", force_remount=True).\n"
          ],
          "name": "stdout"
        },
        {
          "output_type": "display_data",
          "data": {
            "image/png": "[encoded data removed]",
            "text/plain": [
              "<Figure size 432x288 with 1 Axes>"
            ]
          },
          "metadata": {
            "tags": []
          }
        },
        {
          "output_type": "display_data",
          "data": {
            "image/png": "[encoded data removed]",
            "text/plain": [
              "<Figure size 432x288 with 1 Axes>"
            ]
          },
          "metadata": {
            "tags": []
          }
        },
        {
          "output_type": "stream",
          "text": [
            "WARNING:tensorflow:From /usr/local/lib/python3.6/dist-packages/tensorflow/python/ops/init_ops.py:1251: calling VarianceScaling.__init__ (from tensorflow.python.ops.init_ops) with dtype is deprecated and will be removed in a future version.\n",
            "Instructions for updating:\n",
            "Call initializer instance with the dtype argument instead of passing it to the constructor\n",
            "WARNING:tensorflow:From /usr/local/lib/python3.6/dist-packages/tensorflow/python/ops/init_ops.py:97: calling GlorotUniform.__init__ (from tensorflow.python.ops.init_ops) with dtype is deprecated and will be removed in a future version.\n",
            "Instructions for updating:\n",
            "Call initializer instance with the dtype argument instead of passing it to the constructor\n",
            "WARNING:tensorflow:From /usr/local/lib/python3.6/dist-packages/tensorflow/python/ops/init_ops.py:97: calling Orthogonal.__init__ (from tensorflow.python.ops.init_ops) with dtype is deprecated and will be removed in a future version.\n",
            "Instructions for updating:\n",
            "Call initializer instance with the dtype argument instead of passing it to the constructor\n",
            "WARNING:tensorflow:From /usr/local/lib/python3.6/dist-packages/tensorflow/python/ops/init_ops.py:97: calling Zeros.__init__ (from tensorflow.python.ops.init_ops) with dtype is deprecated and will be removed in a future version.\n",
            "Instructions for updating:\n",
            "Call initializer instance with the dtype argument instead of passing it to the constructor\n",
            "training loss: 0.03107207280994843\n",
            "training accuracy: 0.9933542\n",
            "validation loss: 0.07820984220449508\n",
            "validation accuracy: 0.9789108\n",
            "testing loss: 0.5033239761274632\n",
            "testing accuracy: 0.89594436\n"
          ],
          "name": "stdout"
        }
      ]
    }
  ]
}