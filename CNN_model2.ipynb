{
  "nbformat": 4,
  "nbformat_minor": 0,
  "metadata": {
    "colab": {
      "name": "CNN_model2.ipynb",
      "provenance": [],
      "collapsed_sections": [],
      "machine_shape": "hm",
      "include_colab_link": true
    },
    "kernelspec": {
      "name": "python3",
      "display_name": "Python 3"
    },
    "accelerator": "GPU"
  },
  "cells": [
    {
      "cell_type": "markdown",
      "metadata": {
        "id": "view-in-github",
        "colab_type": "text"
      },
      "source": [
        "<a href=\"https://colab.research.google.com/github/nee-no/mmWave/blob/master/CNN_model2.ipynb\" target=\"_parent\"><img src=\"https://colab.research.google.com/assets/colab-badge.svg\" alt=\"Open In Colab\"/></a>"
      ]
    },
    {
      "cell_type": "code",
      "metadata": {
        "id": "JPez4tylWc9N",
        "colab_type": "code",
        "outputId": "45daf760-f978-489e-986a-e678706d1fa7",
        "colab": {
          "base_uri": "https://localhost:8080/",
          "height": 122
        }
      },
      "source": [
        "from google.colab import drive\n",
        "drive.mount('/content/drive')"
      ],
      "execution_count": 0,
      "outputs": [
        {
          "output_type": "stream",
          "text": [
            "Go to this URL in a browser: https://accounts.google.com/o/oauth2/auth?client_id=947318989803-6bn6qk8qdgf4n4g3pfee6491hc0brc4i.apps.googleusercontent.com&redirect_uri=urn%3Aietf%3Awg%3Aoauth%3A2.0%3Aoob&scope=email%20https%3A%2F%2Fwww.googleapis.com%2Fauth%2Fdocs.test%20https%3A%2F%2Fwww.googleapis.com%2Fauth%2Fdrive%20https%3A%2F%2Fwww.googleapis.com%2Fauth%2Fdrive.photos.readonly%20https%3A%2F%2Fwww.googleapis.com%2Fauth%2Fpeopleapi.readonly&response_type=code\n",
            "\n",
            "Enter your authorization code:\n",
            "··········\n",
            "Mounted at /content/drive\n"
          ],
          "name": "stdout"
        }
      ]
    },
    {
      "cell_type": "code",
      "metadata": {
        "id": "pGU2ptT3WeNW",
        "colab_type": "code",
        "outputId": "46e8ae6a-43c6-4e1e-f6d9-956b6d714627",
        "colab": {
          "base_uri": "https://localhost:8080/",
          "height": 34
        }
      },
      "source": [
        "import numpy as np \n",
        "import math\n",
        "import tensorflow as tf\n",
        "import random\n",
        "import copy\n",
        "import os\n",
        "\n",
        "def get_valid_data(mode): \n",
        "    in_folder = os.path.join(\"/content/drive/My Drive/Colab Notebooks/data\")\n",
        "    \n",
        "    if (mode==\"train\"):\n",
        "        x = np.load(os.path.join(in_folder, \"X_train.npy\"))\n",
        "        y = np.load(os.path.join(in_folder, \"Y_train.npy\"))\n",
        "        \n",
        "    elif (mode==\"test\"):\n",
        "        x = np.load(os.path.join(in_folder, \"X_test.npy\"))\n",
        "        y = np.load(os.path.join(in_folder, \"Y_test.npy\"))\n",
        "        \n",
        "    else:\n",
        "        x = np.load(os.path.join(in_folder, \"X_valid.npy\"))\n",
        "        y = np.load(os.path.join(in_folder, \"Y_valid.npy\"))\n",
        "    \n",
        "    return x, y\n",
        "\n",
        "# define train, test, validation ratio and split data\n",
        "X, y = get_valid_data(mode=\"train\")\n",
        "X_train = X[:, 0:30, :, :, :]\n",
        "y_train = y[:, 0:30, :]\n",
        "X_valid = X[:, 30:35, :, :, :]\n",
        "y_valid = y[:, 30:35, :]\n",
        "X_test = X[:, 35:, :, :, :]\n",
        "y_test = y[:, 35:,:]\n",
        "print(X_train.shape, y_train.shape, X_valid.shape, y_valid.shape, X_test.shape, y_test.shape)"
      ],
      "execution_count": 0,
      "outputs": [
        {
          "output_type": "stream",
          "text": [
            "(863, 30, 46, 500, 1) (863, 30, 61) (863, 5, 46, 500, 1) (863, 5, 61) (863, 5, 46, 500, 1) (863, 5, 61)\n"
          ],
          "name": "stdout"
        }
      ]
    },
    {
      "cell_type": "code",
      "metadata": {
        "id": "6kfTh0D8WBUN",
        "colab_type": "code",
        "outputId": "6b3c698b-8e9e-435e-933a-ae7f812ab01d",
        "colab": {
          "base_uri": "https://localhost:8080/",
          "height": 782
        }
      },
      "source": [
        "X_train = X_train.reshape(-1, 46, 500, 1)\n",
        "X_valid = X_valid.reshape(-1, 46, 500, 1)\n",
        "X_test = X_test.reshape(-1, 46, 500, 1)\n",
        "y_train = y_train.reshape(-1, 61)\n",
        "y_valid = y_valid.reshape(-1, 61)\n",
        "y_test = y_test.reshape(-1, 61)\n",
        "\n",
        "nrows = X_train.shape[1]\n",
        "ncolumns = X_train.shape[2]\n",
        "\n",
        "input_shape = (nrows, ncolumns, 1)\n",
        "\n",
        "print(X_train.shape[0], 'train samples')\n",
        "print(X_valid.shape[0], 'valid samples')\n",
        "print(\"Finished reading datasets\")\n",
        "\n",
        "numClasses = y_train.shape[1]\n",
        "!pip install livelossplot"
      ],
      "execution_count": 0,
      "outputs": [
        {
          "output_type": "stream",
          "text": [
            "25890 train samples\n",
            "4315 valid samples\n",
            "Finished reading datasets\n",
            "Collecting livelossplot\n",
            "  Downloading https://files.pythonhosted.org/packages/8e/f6/0618c30078f9c1e4b2cd84f1ea6bb70c6615070468b75b0d934326107bcd/livelossplot-0.4.1-py3-none-any.whl\n",
            "Requirement already satisfied: matplotlib in /usr/local/lib/python3.6/dist-packages (from livelossplot) (3.0.3)\n",
            "Requirement already satisfied: notebook in /usr/local/lib/python3.6/dist-packages (from livelossplot) (5.2.2)\n",
            "Requirement already satisfied: python-dateutil>=2.1 in /usr/local/lib/python3.6/dist-packages (from matplotlib->livelossplot) (2.5.3)\n",
            "Requirement already satisfied: cycler>=0.10 in /usr/local/lib/python3.6/dist-packages (from matplotlib->livelossplot) (0.10.0)\n",
            "Requirement already satisfied: kiwisolver>=1.0.1 in /usr/local/lib/python3.6/dist-packages (from matplotlib->livelossplot) (1.1.0)\n",
            "Requirement already satisfied: pyparsing!=2.0.4,!=2.1.2,!=2.1.6,>=2.0.1 in /usr/local/lib/python3.6/dist-packages (from matplotlib->livelossplot) (2.4.2)\n",
            "Requirement already satisfied: numpy>=1.10.0 in /usr/local/lib/python3.6/dist-packages (from matplotlib->livelossplot) (1.16.5)\n",
            "Requirement already satisfied: ipykernel in /usr/local/lib/python3.6/dist-packages (from notebook->livelossplot) (4.6.1)\n",
            "Requirement already satisfied: jupyter-client in /usr/local/lib/python3.6/dist-packages (from notebook->livelossplot) (5.3.3)\n",
            "Requirement already satisfied: tornado>=4 in /usr/local/lib/python3.6/dist-packages (from notebook->livelossplot) (4.5.3)\n",
            "Requirement already satisfied: traitlets>=4.2.1 in /usr/local/lib/python3.6/dist-packages (from notebook->livelossplot) (4.3.2)\n",
            "Requirement already satisfied: jinja2 in /usr/local/lib/python3.6/dist-packages (from notebook->livelossplot) (2.10.1)\n",
            "Requirement already satisfied: nbformat in /usr/local/lib/python3.6/dist-packages (from notebook->livelossplot) (4.4.0)\n",
            "Requirement already satisfied: terminado>=0.3.3; sys_platform != \"win32\" in /usr/local/lib/python3.6/dist-packages (from notebook->livelossplot) (0.8.2)\n",
            "Requirement already satisfied: ipython-genutils in /usr/local/lib/python3.6/dist-packages (from notebook->livelossplot) (0.2.0)\n",
            "Requirement already satisfied: jupyter-core in /usr/local/lib/python3.6/dist-packages (from notebook->livelossplot) (4.5.0)\n",
            "Requirement already satisfied: nbconvert in /usr/local/lib/python3.6/dist-packages (from notebook->livelossplot) (5.6.0)\n",
            "Requirement already satisfied: six>=1.5 in /usr/local/lib/python3.6/dist-packages (from python-dateutil>=2.1->matplotlib->livelossplot) (1.12.0)\n",
            "Requirement already satisfied: setuptools in /usr/local/lib/python3.6/dist-packages (from kiwisolver>=1.0.1->matplotlib->livelossplot) (41.2.0)\n",
            "Requirement already satisfied: ipython>=4.0.0 in /usr/local/lib/python3.6/dist-packages (from ipykernel->notebook->livelossplot) (5.5.0)\n",
            "Requirement already satisfied: pyzmq>=13 in /usr/local/lib/python3.6/dist-packages (from jupyter-client->notebook->livelossplot) (17.0.0)\n",
            "Requirement already satisfied: decorator in /usr/local/lib/python3.6/dist-packages (from traitlets>=4.2.1->notebook->livelossplot) (4.4.0)\n",
            "Requirement already satisfied: MarkupSafe>=0.23 in /usr/local/lib/python3.6/dist-packages (from jinja2->notebook->livelossplot) (1.1.1)\n",
            "Requirement already satisfied: jsonschema!=2.5.0,>=2.4 in /usr/local/lib/python3.6/dist-packages (from nbformat->notebook->livelossplot) (2.6.0)\n",
            "Requirement already satisfied: ptyprocess; os_name != \"nt\" in /usr/local/lib/python3.6/dist-packages (from terminado>=0.3.3; sys_platform != \"win32\"->notebook->livelossplot) (0.6.0)\n",
            "Requirement already satisfied: mistune<2,>=0.8.1 in /usr/local/lib/python3.6/dist-packages (from nbconvert->notebook->livelossplot) (0.8.4)\n",
            "Requirement already satisfied: testpath in /usr/local/lib/python3.6/dist-packages (from nbconvert->notebook->livelossplot) (0.4.2)\n",
            "Requirement already satisfied: bleach in /usr/local/lib/python3.6/dist-packages (from nbconvert->notebook->livelossplot) (3.1.0)\n",
            "Requirement already satisfied: defusedxml in /usr/local/lib/python3.6/dist-packages (from nbconvert->notebook->livelossplot) (0.6.0)\n",
            "Requirement already satisfied: pandocfilters>=1.4.1 in /usr/local/lib/python3.6/dist-packages (from nbconvert->notebook->livelossplot) (1.4.2)\n",
            "Requirement already satisfied: pygments in /usr/local/lib/python3.6/dist-packages (from nbconvert->notebook->livelossplot) (2.1.3)\n",
            "Requirement already satisfied: entrypoints>=0.2.2 in /usr/local/lib/python3.6/dist-packages (from nbconvert->notebook->livelossplot) (0.3)\n",
            "Requirement already satisfied: simplegeneric>0.8 in /usr/local/lib/python3.6/dist-packages (from ipython>=4.0.0->ipykernel->notebook->livelossplot) (0.8.1)\n",
            "Requirement already satisfied: pickleshare in /usr/local/lib/python3.6/dist-packages (from ipython>=4.0.0->ipykernel->notebook->livelossplot) (0.7.5)\n",
            "Requirement already satisfied: pexpect; sys_platform != \"win32\" in /usr/local/lib/python3.6/dist-packages (from ipython>=4.0.0->ipykernel->notebook->livelossplot) (4.7.0)\n",
            "Requirement already satisfied: prompt-toolkit<2.0.0,>=1.0.4 in /usr/local/lib/python3.6/dist-packages (from ipython>=4.0.0->ipykernel->notebook->livelossplot) (1.0.16)\n",
            "Requirement already satisfied: webencodings in /usr/local/lib/python3.6/dist-packages (from bleach->nbconvert->notebook->livelossplot) (0.5.1)\n",
            "Requirement already satisfied: wcwidth in /usr/local/lib/python3.6/dist-packages (from prompt-toolkit<2.0.0,>=1.0.4->ipython>=4.0.0->ipykernel->notebook->livelossplot) (0.1.7)\n",
            "Installing collected packages: livelossplot\n",
            "Successfully installed livelossplot-0.4.1\n"
          ],
          "name": "stdout"
        }
      ]
    },
    {
      "cell_type": "code",
      "metadata": {
        "id": "dC2_BvSbWDdp",
        "colab_type": "code",
        "colab": {}
      },
      "source": [
        "from tensorflow.keras.callbacks import EarlyStopping, CSVLogger\n",
        "from tensorflow.keras.callbacks import ModelCheckpoint\n",
        "import os\n",
        "from livelossplot import PlotLossesKeras\n",
        "%matplotlib inline\n",
        "\n",
        "def create_model(numClasses):\n",
        "    model = tf.keras.models.Sequential()\n",
        "    \n",
        "    model.add(tf.keras.layers.Conv2D(100, kernel_size=(12,12),\n",
        "              activation='relu',input_shape=input_shape))\n",
        "    model.add(tf.keras.layers.Conv2D(50, (12, 12), padding=\"SAME\", activation='relu'))\n",
        "    model.add(tf.keras.layers.Dropout(0.5))\n",
        "    model.add(tf.keras.layers.MaxPooling2D(pool_size=(3, 3)))\n",
        "    model.add(tf.keras.layers.Conv2D(20, (10, 10), padding=\"SAME\", activation='relu'))\n",
        "    model.add(tf.keras.layers.Dropout(0.5))\n",
        "    model.add(tf.keras.layers.Dense(2, activation='relu'))\n",
        "    model.add(tf.keras.layers.Dropout(0.8))\n",
        "    model.add(tf.keras.layers.Flatten())\n",
        "    model.add(tf.keras.layers.Dense(numClasses, activation='softmax'))\n",
        "  \n",
        "    model.compile(loss=tf.keras.losses.categorical_crossentropy,\n",
        "              #optimizer=tf.keras.optimizers.Adadelta(lr=1.0),\n",
        "              #optimizer=tf.keras.optimizers.SGD(lr=0.00052),\n",
        "              optimizer=tf.keras.optimizers.Adam(),\n",
        "              metrics=['accuracy'])\n",
        "    \n",
        "    return model\n",
        "\n",
        "\n",
        "model = create_model(numClasses)\n",
        "model.summary()\n",
        "\n",
        "\n",
        "es = EarlyStopping(monitor='val_loss', mode='min',verbose=1, patience=50)\n",
        "\n",
        "# include the epoch in the file name. (uses `str.format`)\n",
        "checkpoint_path = \"/content/drive/My Drive/Colab Notebooks/trial3_data/cnn_data_trial3data/cp2_short-{epoch:04d}.ckpt\"\n",
        "checkpoint_dir = os.path.dirname(checkpoint_path)\n",
        "csv_logger = CSVLogger('/content/drive/My Drive/Colab Notebooks/trial3_data/cnn_data_trial3data/training2_short.log', append=True, separator=',')\n",
        "\n",
        "cp_callback = tf.keras.callbacks.ModelCheckpoint(\n",
        "    checkpoint_path, monitor='val_loss',mode='min', verbose=1, save_best_only=False)\n",
        "\n",
        "#mc = ModelCheckpoint('best_model.h5', monitor='val_loss',mode='min', verbose=1, save_best_only=True)\n",
        "\n",
        "batch_size = 16\n",
        "epochs = 100\n",
        "'''\n",
        "history = model.fit(X_train, y_train,\n",
        "                    batch_size=batch_size,\n",
        "                    epochs=epochs,\n",
        "                    verbose=1,\n",
        "                    shuffle=True,\n",
        "                    validation_data=(X_valid, y_valid), callbacks=[es, cp_callback, csv_logger, PlotLossesKeras()])\n",
        "'''\n",
        "model.load_weights('/content/drive/My Drive/Colab Notebooks/trial3_data/cnn_data_trial3data/cp2_short-0047.ckpt')\n",
        "history = model.fit(X_train, y_train,\n",
        "                    batch_size=batch_size,\n",
        "                    epochs=epochs,\n",
        "                    initial_epoch = 47,\n",
        "                    verbose=1,\n",
        "                    shuffle=True,\n",
        "                    validation_data=(X_valid, y_valid), callbacks=[es, cp_callback, csv_logger, PlotLossesKeras()])\n",
        "                    #validation_data=(X_test, y_test))\n",
        "    \n",
        "model.save(\"/content/drive/My Drive/Colab Notebooks/trial3_data/cnn_data_trial3data/model_2_short.h5\")\n",
        "print(\"Saved model_2_short.h5\\n\")"
      ],
      "execution_count": 0,
      "outputs": []
    },
    {
      "cell_type": "code",
      "metadata": {
        "id": "01Y3JfbJWFxY",
        "colab_type": "code",
        "colab": {}
      },
      "source": [
        "train_loss, train_acc = model.evaluate(X_train, y_train, verbose=0)\n",
        "test_loss, test_acc = model.evaluate(X_test, y_test, verbose=0)\n",
        "valid_loss, valid_acc = model.evaluate(X_valid, y_valid, verbose=0)\n",
        "\n",
        "import matplotlib.pyplot as plt\n",
        "\n",
        "val_acc = history.history['val_acc']\n",
        "acc = history.history['acc']\n",
        "loss = history.history['loss']\n",
        "val_loss = history.history['val_loss']\n",
        "np.savez(\"/content/drive/My Drive/Colab Notebooks/trial3_data/cnn_data_trial3data/val_acc2_short.npz\",loss=loss, acc=acc, val_loss=val_loss, val_acc=val_acc)\n",
        "\n",
        "epoch_num = np.arange(0, len(val_acc), dtype=int)\n",
        "\n",
        "plot1, = plt.plot(epoch_num, acc)\n",
        "plot2, = plt.plot(epoch_num, val_acc)\n",
        "plt.legend([plot1, plot2],['training accuracy', 'validation accuracy'])\n",
        "plt.show()\n",
        "\n",
        "plot1, = plt.plot(epoch_num, loss)\n",
        "plot2, = plt.plot(epoch_num, val_loss)\n",
        "plt.legend([plot1, plot2],['training loss', 'validation loss'])\n",
        "plt.show()"
      ],
      "execution_count": 0,
      "outputs": []
    },
    {
      "cell_type": "code",
      "metadata": {
        "id": "rE9bQePTWGXl",
        "colab_type": "code",
        "colab": {}
      },
      "source": [
        "import requests\n",
        "\n",
        "def telegram(message):\n",
        "\n",
        "    bot_token = '923260274:AAHyCqG6jpPI_xo0x2wJvhGVA_oeUnMf41Y'\n",
        "    bot_chatID = '763781536'\n",
        "    send = 'https://api.telegram.org/bot' + bot_token + '/sendMessage?chat_id=' + bot_chatID + '&parse_mode=Markdown&text=' + message\n",
        "    try:\n",
        "        response = requests.get(send)\n",
        "        response.raise_for_status()\n",
        "    except requests.exceptions.RequestException as err:\n",
        "        print (\"OOps: Something Else\",err)\n",
        "    except requests.exceptions.HTTPError as errh:\n",
        "        print (\"Http Error:\",errh)\n",
        "    except requests.exceptions.ConnectionError as errc:\n",
        "        print (\"Error Connecting:\",errc)\n",
        "    except requests.exceptions.Timeout as errt:\n",
        "        print (\"Timeout Error:\",errt)  \n",
        "    return response.json()\n",
        "\n",
        "\n",
        "\n",
        "message = \"cnn for reinforcement\\n\" + \"test_loss :\" + str(test_loss) + \"\\n\" + \"test_acc :\" + str(test_acc)  + \"\\n\" + \"valid_loss :\" + str(valid_loss) + \"\\n\" + \"valid_acc :\" + str(valid_acc) + \"\\n\" + \"train_loss :\" + str(train_loss) + \"\\n\" + \"train_acc :\" + str(train_acc) \n",
        "telegram(message)"
      ],
      "execution_count": 0,
      "outputs": []
    },
    {
      "cell_type": "code",
      "metadata": {
        "id": "VRiYbxSkWJZM",
        "colab_type": "code",
        "colab": {}
      },
      "source": [
        "#model = create_model2()\n",
        "model.save_weights(\"/content/drive/My Drive/Colab Notebooks/trial3_data/cnn_data_trial3data/model_2_shortweights.h5\")\n",
        "model_json = model.to_json()\n",
        "with open(\"/content/drive/My Drive/Colab Notebooks/trial3_data/cnn_data_trial3data/model_2_shortarchitecture.json\", \"w\") as json_file:\n",
        "    json_file.write(model_json)"
      ],
      "execution_count": 0,
      "outputs": []
    },
    {
      "cell_type": "code",
      "metadata": {
        "id": "gb5QAq9K86No",
        "colab_type": "code",
        "outputId": "e60d2df9-9c0e-4919-a8f8-e7145f9dcfe3",
        "colab": {
          "base_uri": "https://localhost:8080/",
          "height": 779
        }
      },
      "source": [
        "\n",
        "from google.colab import drive\n",
        "drive.mount('/content/drive')\n",
        "\n",
        "import numpy as np\n",
        "import csv\n",
        "import matplotlib.pyplot as plt\n",
        "%matplotlib inline\n",
        "\n",
        "epoch = []\n",
        "acc = []\n",
        "loss = []\n",
        "val_acc = []\n",
        "val_loss = []\n",
        "count=0\n",
        "\n",
        "with open('/content/drive/My Drive/Colab Notebooks/trial3_data/cnn_data_trial3data/training2_short.log') as csvfile:\n",
        "    readCSV = csv.reader(csvfile, delimiter=',')\n",
        "    for row in readCSV:\n",
        "      if (count==0): \n",
        "        count += 1\n",
        "        continue\n",
        "      # epoch,acc,loss,val_acc,val_loss\n",
        "      epoch.append(int(row[0]))\n",
        "      acc.append(float(row[1]))\n",
        "      loss.append(float(row[2]))\n",
        "      val_acc.append(float(row[3]))\n",
        "      val_loss.append(float(row[4]))\n",
        "\n",
        "plot1, = plt.plot(epoch, acc)\n",
        "plot2, = plt.plot(epoch, val_acc)\n",
        "plt.legend([plot1, plot2],['training accuracy', 'validation accuracy'])\n",
        "plt.show()\n",
        "\n",
        "plot1, = plt.plot(epoch, loss)\n",
        "plot2, = plt.plot(epoch, val_loss)\n",
        "plt.legend([plot1, plot2],['training loss', 'validation loss'])\n",
        "plt.show()\n",
        "\n",
        "X_test, y_test = get_valid_data(mode=\"test\")\n",
        "X_test = X_test.reshape(-1, 46, 500, 1)\n",
        "y_test = y_test.reshape(-1, 61)\n",
        "\n",
        "from tensorflow.keras.callbacks import EarlyStopping, CSVLogger\n",
        "from tensorflow.keras.callbacks import ModelCheckpoint\n",
        "import os\n",
        "%matplotlib inline\n",
        "\n",
        "def create_model(numClasses):\n",
        "    model = tf.keras.models.Sequential()\n",
        "    \n",
        "    model.add(tf.keras.layers.Conv2D(100, kernel_size=(12,12),\n",
        "              activation='relu',input_shape=input_shape))\n",
        "    model.add(tf.keras.layers.Conv2D(50, (12, 12), padding=\"SAME\", activation='relu'))\n",
        "    model.add(tf.keras.layers.Dropout(0.5))\n",
        "    model.add(tf.keras.layers.MaxPooling2D(pool_size=(3, 3)))\n",
        "    model.add(tf.keras.layers.Conv2D(20, (10, 10), padding=\"SAME\", activation='relu'))\n",
        "    model.add(tf.keras.layers.Dropout(0.5))\n",
        "    model.add(tf.keras.layers.Dense(2, activation='relu'))\n",
        "    model.add(tf.keras.layers.Dropout(0.8))\n",
        "    model.add(tf.keras.layers.Flatten())\n",
        "    model.add(tf.keras.layers.Dense(numClasses, activation='softmax'))\n",
        "  \n",
        "    model.compile(loss=tf.keras.losses.categorical_crossentropy,\n",
        "              #optimizer=tf.keras.optimizers.Adadelta(lr=1.0),\n",
        "              #optimizer=tf.keras.optimizers.SGD(lr=0.00052),\n",
        "              optimizer=tf.keras.optimizers.Adam(),\n",
        "              metrics=['accuracy'])\n",
        "    \n",
        "    return model\n",
        "  \n",
        "model = create_model(61)\n",
        "model.load_weights('/content/drive/My Drive/Colab Notebooks/trial3_data/cnn_data_trial3data/cp2_short-0047.ckpt')\n",
        "model.save(\"/content/drive/My Drive/Colab Notebooks/trial3_data/cnn_data_trial3data/model_2_2_short.h5\")\n",
        "print(\"Saved model_2_2_short.h5\\n\")\n",
        "train_loss, train_acc = model.evaluate(X_train, y_train, verbose=0)\n",
        "test_loss, test_acc = model.evaluate(X_test, y_test, verbose=0)\n",
        "valid_loss, valid_acc = model.evaluate(X_valid, y_valid, verbose=0)\n",
        "\n",
        "message = \"cnn for reinforcement\\n\" + \"test_loss :\" + str(test_loss) + \"\\n\" + \"test_acc :\" + str(test_acc)  + \"\\n\" + \"valid_loss :\" + str(valid_loss) + \"\\n\" + \"valid_acc :\" + str(valid_acc) + \"\\n\" + \"train_loss :\" + str(train_loss) + \"\\n\" + \"train_acc :\" + str(train_acc) \n",
        "print(message)\n"
      ],
      "execution_count": 0,
      "outputs": [
        {
          "output_type": "stream",
          "text": [
            "Drive already mounted at /content/drive; to attempt to forcibly remount, call drive.mount(\"/content/drive\", force_remount=True).\n"
          ],
          "name": "stdout"
        },
        {
          "output_type": "display_data",
          "data": {
            "image/png": "[encoded data removed]",
            "text/plain": [
              "<Figure size 432x288 with 1 Axes>"
            ]
          },
          "metadata": {
            "tags": []
          }
        },
        {
          "output_type": "display_data",
          "data": {
            "image/png": "[encoded data removed]",
            "text/plain": [
              "<Figure size 432x288 with 1 Axes>"
            ]
          },
          "metadata": {
            "tags": []
          }
        },
        {
          "output_type": "stream",
          "text": [
            "WARNING:tensorflow:From /usr/local/lib/python3.6/dist-packages/tensorflow/python/ops/init_ops.py:1251: calling VarianceScaling.__init__ (from tensorflow.python.ops.init_ops) with dtype is deprecated and will be removed in a future version.\n",
            "Instructions for updating:\n",
            "Call initializer instance with the dtype argument instead of passing it to the constructor\n",
            "WARNING:tensorflow:Large dropout rate: 0.8 (>0.5). In TensorFlow 2.x, dropout() uses dropout rate instead of keep_prob. Please ensure that this is intended.\n",
            "Saved model_2_2_short.h5\n",
            "\n",
            "cnn for reinforcement\n",
            "test_loss :0.9415629657367428\n",
            "test_acc :0.78377753\n",
            "valid_loss :0.5245313381886288\n",
            "valid_acc :0.87415993\n",
            "train_loss :0.16213596290989818\n",
            "train_acc :0.954577\n"
          ],
          "name": "stdout"
        }
      ]
    },
    {
      "cell_type": "code",
      "metadata": {
        "id": "-F0DU3kg86TC",
        "colab_type": "code",
        "outputId": "fb83c3cc-17f8-44e0-8c5b-ca5c7770a9c2",
        "colab": {
          "base_uri": "https://localhost:8080/",
          "height": 538
        }
      },
      "source": [
        "\n",
        "from google.colab import drive\n",
        "drive.mount('/content/drive')\n",
        "\n",
        "import numpy as np\n",
        "import csv\n",
        "import matplotlib.pyplot as plt\n",
        "%matplotlib inline\n",
        "\n",
        "epoch = []\n",
        "acc = []\n",
        "loss = []\n",
        "val_acc = []\n",
        "val_loss = []\n",
        "count=0\n",
        "\n",
        "with open('/content/drive/My Drive/Colab Notebooks/trial3_data/cnn_data_trial3data/training2_short.log') as csvfile:\n",
        "    readCSV = csv.reader(csvfile, delimiter=',')\n",
        "    for row in readCSV:\n",
        "      if (count==0): \n",
        "        count += 1\n",
        "        continue\n",
        "      # epoch,acc,loss,val_acc,val_loss\n",
        "      epoch.append(int(row[0]))\n",
        "      acc.append(float(row[1]))\n",
        "      loss.append(float(row[2]))\n",
        "      val_acc.append(float(row[3]))\n",
        "      val_loss.append(float(row[4]))\n",
        "\n",
        "plot1, = plt.plot(epoch, acc)\n",
        "plot2, = plt.plot(epoch, val_acc)\n",
        "plt.legend([plot1, plot2],['training accuracy', 'validation accuracy'])\n",
        "plt.show()\n",
        "\n",
        "plot1, = plt.plot(epoch, loss)\n",
        "plot2, = plt.plot(epoch, val_loss)\n",
        "plt.legend([plot1, plot2],['training loss', 'validation loss'])\n",
        "plt.show()\n"
      ],
      "execution_count": 0,
      "outputs": [
        {
          "output_type": "stream",
          "text": [
            "Drive already mounted at /content/drive; to attempt to forcibly remount, call drive.mount(\"/content/drive\", force_remount=True).\n"
          ],
          "name": "stdout"
        },
        {
          "output_type": "display_data",
          "data": {
            "image/png": "[encoded data removed]",
            "text/plain": [
              "<Figure size 432x288 with 1 Axes>"
            ]
          },
          "metadata": {
            "tags": []
          }
        },
        {
          "output_type": "display_data",
          "data": {
            "image/png": "[encoded data removed]",
            "text/plain": [
              "<Figure size 432x288 with 1 Axes>"
            ]
          },
          "metadata": {
            "tags": []
          }
        }
      ]
    }
  ]
}