{
  "nbformat": 4,
  "nbformat_minor": 0,
  "metadata": {
    "colab": {
      "name": "stacked_ensemble.ipynb",
      "provenance": [],
      "machine_shape": "hm",
      "include_colab_link": true
    },
    "kernelspec": {
      "name": "python3",
      "display_name": "Python 3"
    },
    "accelerator": "GPU"
  },
  "cells": [
    {
      "cell_type": "markdown",
      "metadata": {
        "id": "view-in-github",
        "colab_type": "text"
      },
      "source": [
        "<a href=\"https://colab.research.google.com/github/nee-no/mmWave/blob/master/stacked_ensemble.ipynb\" target=\"_parent\"><img src=\"https://colab.research.google.com/assets/colab-badge.svg\" alt=\"Open In Colab\"/></a>"
      ]
    },
    {
      "cell_type": "code",
      "metadata": {
        "id": "PVxP_2zZlEH5",
        "colab_type": "code",
        "outputId": "8535244a-1139-45f3-fc00-accf692edc87",
        "colab": {
          "base_uri": "https://localhost:8080/",
          "height": 122
        }
      },
      "source": [
        "from google.colab import drive\n",
        "drive.mount('/content/drive')"
      ],
      "execution_count": 0,
      "outputs": [
        {
          "output_type": "stream",
          "text": [
            "Go to this URL in a browser: https://accounts.google.com/o/oauth2/auth?client_id=947318989803-6bn6qk8qdgf4n4g3pfee6491hc0brc4i.apps.googleusercontent.com&redirect_uri=urn%3Aietf%3Awg%3Aoauth%3A2.0%3Aoob&scope=email%20https%3A%2F%2Fwww.googleapis.com%2Fauth%2Fdocs.test%20https%3A%2F%2Fwww.googleapis.com%2Fauth%2Fdrive%20https%3A%2F%2Fwww.googleapis.com%2Fauth%2Fdrive.photos.readonly%20https%3A%2F%2Fwww.googleapis.com%2Fauth%2Fpeopleapi.readonly&response_type=code\n",
            "\n",
            "Enter your authorization code:\n",
            "··········\n",
            "Mounted at /content/drive\n"
          ],
          "name": "stdout"
        }
      ]
    },
    {
      "cell_type": "code",
      "metadata": {
        "id": "U5eewXy9lwiD",
        "colab_type": "code",
        "outputId": "db614d18-46e4-41dd-c27e-44325f050c36",
        "colab": {
          "base_uri": "https://localhost:8080/",
          "height": 799
        }
      },
      "source": [
        "import numpy as np\n",
        "from matplotlib import pyplot \n",
        "%matplotlib inline\n",
        "\n",
        "import math\n",
        "import tensorflow as tf\n",
        "import random\n",
        "import copy\n",
        "import os\n",
        "\n",
        "def get_valid_data(mode): \n",
        "    in_folder = os.path.join(\"/content/drive/My Drive/Colab Notebooks/data\")\n",
        "    \n",
        "    if (mode==\"train\"):\n",
        "        x = np.load(os.path.join(in_folder, \"X_train.npy\"))\n",
        "        y = np.load(os.path.join(in_folder, \"Y_train.npy\"))\n",
        "        \n",
        "    elif (mode==\"test\"):\n",
        "        x = np.load(os.path.join(in_folder, \"X_test.npy\"))\n",
        "        y = np.load(os.path.join(in_folder, \"Y_test.npy\"))\n",
        "        \n",
        "    else:\n",
        "        x = np.load(os.path.join(in_folder, \"X_valid.npy\"))\n",
        "        y = np.load(os.path.join(in_folder, \"Y_valid.npy\"))\n",
        "    \n",
        "    return x, y\n",
        "\n",
        "# define train, test, validation ratio and split data\n",
        "X, y = get_valid_data(mode=\"train\")\n",
        "\n",
        "X_train = X[:, 30:, :, :, :]\n",
        "y_train = y[:, 30:, :]\n",
        "\n",
        "X_valid, y_valid = get_valid_data(mode=\"valid\")\n",
        "print(X_train.shape, y_train.shape, X_valid.shape, y_valid.shape)\n",
        "\n",
        "X1_train = X_train.reshape(-1, 46, 500, 1)\n",
        "X1_valid = X_valid.reshape(-1, 46, 500, 1)\n",
        "Y1_train = y_train.reshape(-1, 61)\n",
        "Y1_valid = y_valid.reshape(-1, 61)\n",
        "\n",
        "nrows = X1_train.shape[1]\n",
        "ncolumns = X1_train.shape[2]\n",
        "\n",
        "input_shape = (nrows, ncolumns, 1)\n",
        "\n",
        "print(X1_train.shape[0], 'train samples')\n",
        "print(X1_valid.shape[0], 'valid samples')\n",
        "print(\"Finished reading datasets\")\n",
        "\n",
        "numClasses = y_train.shape[1]\n",
        "!pip install livelossplot"
      ],
      "execution_count": 0,
      "outputs": [
        {
          "output_type": "stream",
          "text": [
            "(863, 10, 46, 500, 1) (863, 10, 61) (863, 5, 46, 500, 1) (863, 5, 61)\n",
            "8630 train samples\n",
            "4315 valid samples\n",
            "Finished reading datasets\n",
            "Collecting livelossplot\n",
            "  Downloading https://files.pythonhosted.org/packages/8e/f6/0618c30078f9c1e4b2cd84f1ea6bb70c6615070468b75b0d934326107bcd/livelossplot-0.4.1-py3-none-any.whl\n",
            "Requirement already satisfied: notebook in /usr/local/lib/python3.6/dist-packages (from livelossplot) (5.2.2)\n",
            "Requirement already satisfied: matplotlib in /usr/local/lib/python3.6/dist-packages (from livelossplot) (3.0.3)\n",
            "Requirement already satisfied: jupyter-core in /usr/local/lib/python3.6/dist-packages (from notebook->livelossplot) (4.5.0)\n",
            "Requirement already satisfied: nbformat in /usr/local/lib/python3.6/dist-packages (from notebook->livelossplot) (4.4.0)\n",
            "Requirement already satisfied: jinja2 in /usr/local/lib/python3.6/dist-packages (from notebook->livelossplot) (2.10.1)\n",
            "Requirement already satisfied: ipython-genutils in /usr/local/lib/python3.6/dist-packages (from notebook->livelossplot) (0.2.0)\n",
            "Requirement already satisfied: tornado>=4 in /usr/local/lib/python3.6/dist-packages (from notebook->livelossplot) (4.5.3)\n",
            "Requirement already satisfied: ipykernel in /usr/local/lib/python3.6/dist-packages (from notebook->livelossplot) (4.6.1)\n",
            "Requirement already satisfied: terminado>=0.3.3; sys_platform != \"win32\" in /usr/local/lib/python3.6/dist-packages (from notebook->livelossplot) (0.8.2)\n",
            "Requirement already satisfied: nbconvert in /usr/local/lib/python3.6/dist-packages (from notebook->livelossplot) (5.6.0)\n",
            "Requirement already satisfied: jupyter-client in /usr/local/lib/python3.6/dist-packages (from notebook->livelossplot) (5.3.3)\n",
            "Requirement already satisfied: traitlets>=4.2.1 in /usr/local/lib/python3.6/dist-packages (from notebook->livelossplot) (4.3.2)\n",
            "Requirement already satisfied: kiwisolver>=1.0.1 in /usr/local/lib/python3.6/dist-packages (from matplotlib->livelossplot) (1.1.0)\n",
            "Requirement already satisfied: numpy>=1.10.0 in /usr/local/lib/python3.6/dist-packages (from matplotlib->livelossplot) (1.16.5)\n",
            "Requirement already satisfied: python-dateutil>=2.1 in /usr/local/lib/python3.6/dist-packages (from matplotlib->livelossplot) (2.5.3)\n",
            "Requirement already satisfied: pyparsing!=2.0.4,!=2.1.2,!=2.1.6,>=2.0.1 in /usr/local/lib/python3.6/dist-packages (from matplotlib->livelossplot) (2.4.2)\n",
            "Requirement already satisfied: cycler>=0.10 in /usr/local/lib/python3.6/dist-packages (from matplotlib->livelossplot) (0.10.0)\n",
            "Requirement already satisfied: jsonschema!=2.5.0,>=2.4 in /usr/local/lib/python3.6/dist-packages (from nbformat->notebook->livelossplot) (2.6.0)\n",
            "Requirement already satisfied: MarkupSafe>=0.23 in /usr/local/lib/python3.6/dist-packages (from jinja2->notebook->livelossplot) (1.1.1)\n",
            "Requirement already satisfied: ipython>=4.0.0 in /usr/local/lib/python3.6/dist-packages (from ipykernel->notebook->livelossplot) (5.5.0)\n",
            "Requirement already satisfied: ptyprocess; os_name != \"nt\" in /usr/local/lib/python3.6/dist-packages (from terminado>=0.3.3; sys_platform != \"win32\"->notebook->livelossplot) (0.6.0)\n",
            "Requirement already satisfied: mistune<2,>=0.8.1 in /usr/local/lib/python3.6/dist-packages (from nbconvert->notebook->livelossplot) (0.8.4)\n",
            "Requirement already satisfied: pygments in /usr/local/lib/python3.6/dist-packages (from nbconvert->notebook->livelossplot) (2.1.3)\n",
            "Requirement already satisfied: defusedxml in /usr/local/lib/python3.6/dist-packages (from nbconvert->notebook->livelossplot) (0.6.0)\n",
            "Requirement already satisfied: testpath in /usr/local/lib/python3.6/dist-packages (from nbconvert->notebook->livelossplot) (0.4.2)\n",
            "Requirement already satisfied: entrypoints>=0.2.2 in /usr/local/lib/python3.6/dist-packages (from nbconvert->notebook->livelossplot) (0.3)\n",
            "Requirement already satisfied: bleach in /usr/local/lib/python3.6/dist-packages (from nbconvert->notebook->livelossplot) (3.1.0)\n",
            "Requirement already satisfied: pandocfilters>=1.4.1 in /usr/local/lib/python3.6/dist-packages (from nbconvert->notebook->livelossplot) (1.4.2)\n",
            "Requirement already satisfied: pyzmq>=13 in /usr/local/lib/python3.6/dist-packages (from jupyter-client->notebook->livelossplot) (17.0.0)\n",
            "Requirement already satisfied: six in /usr/local/lib/python3.6/dist-packages (from traitlets>=4.2.1->notebook->livelossplot) (1.12.0)\n",
            "Requirement already satisfied: decorator in /usr/local/lib/python3.6/dist-packages (from traitlets>=4.2.1->notebook->livelossplot) (4.4.0)\n",
            "Requirement already satisfied: setuptools in /usr/local/lib/python3.6/dist-packages (from kiwisolver>=1.0.1->matplotlib->livelossplot) (41.2.0)\n",
            "Requirement already satisfied: pickleshare in /usr/local/lib/python3.6/dist-packages (from ipython>=4.0.0->ipykernel->notebook->livelossplot) (0.7.5)\n",
            "Requirement already satisfied: simplegeneric>0.8 in /usr/local/lib/python3.6/dist-packages (from ipython>=4.0.0->ipykernel->notebook->livelossplot) (0.8.1)\n",
            "Requirement already satisfied: pexpect; sys_platform != \"win32\" in /usr/local/lib/python3.6/dist-packages (from ipython>=4.0.0->ipykernel->notebook->livelossplot) (4.7.0)\n",
            "Requirement already satisfied: prompt-toolkit<2.0.0,>=1.0.4 in /usr/local/lib/python3.6/dist-packages (from ipython>=4.0.0->ipykernel->notebook->livelossplot) (1.0.16)\n",
            "Requirement already satisfied: webencodings in /usr/local/lib/python3.6/dist-packages (from bleach->nbconvert->notebook->livelossplot) (0.5.1)\n",
            "Requirement already satisfied: wcwidth in /usr/local/lib/python3.6/dist-packages (from prompt-toolkit<2.0.0,>=1.0.4->ipython>=4.0.0->ipykernel->notebook->livelossplot) (0.1.7)\n",
            "Installing collected packages: livelossplot\n",
            "Successfully installed livelossplot-0.4.1\n"
          ],
          "name": "stdout"
        }
      ]
    },
    {
      "cell_type": "code",
      "metadata": {
        "id": "gojD_x0nSmKF",
        "colab_type": "code",
        "outputId": "a8ff25fe-ae46-4646-f73d-6c1967c102a1",
        "colab": {
          "base_uri": "https://localhost:8080/",
          "height": 54
        }
      },
      "source": [
        "'''\n",
        "# change model layer name...\n",
        "from google.colab import drive\n",
        "drive.mount('/content/drive')\n",
        "\n",
        "from tensorflow.keras.models import load_model\n",
        "\n",
        "model3 = load_model('/content/drive/My Drive/Colab Notebooks/trial3_data/cnn_data_trial3data/model_3_3_short.h5')\n",
        "i=2\n",
        "for j,layer in enumerate(model3.layers):\n",
        "      # rename to avoid 'unique layer name' issue\n",
        "      layer._name = 'ensemble_' + str(i+1) + '_' + layer.name\n",
        "      model3.save('/content/drive/My Drive/Colab Notebooks/trial3_data/cnn_data_trial3data/model_3_short.h5')\n",
        "'''"
      ],
      "execution_count": 0,
      "outputs": [
        {
          "output_type": "execute_result",
          "data": {
            "text/plain": [
              "\"\\n# change model layer name...\\nfrom google.colab import drive\\ndrive.mount('/content/drive')\\n\\nfrom tensorflow.keras.models import load_model\\n\\nmodel3 = load_model('/content/drive/My Drive/Colab Notebooks/trial3_data/cnn_data_trial3data/model_3_3_short.h5')\\ni=2\\nfor j,layer in enumerate(model3.layers):\\n      # rename to avoid 'unique layer name' issue\\n      layer._name = 'ensemble_' + str(i+1) + '_' + layer.name\\n      model3.save('/content/drive/My Drive/Colab Notebooks/trial3_data/cnn_data_trial3data/model_3_short.h5')\\n\""
            ]
          },
          "metadata": {
            "tags": []
          },
          "execution_count": 3
        }
      ]
    },
    {
      "cell_type": "code",
      "metadata": {
        "id": "QC3cwUfnlGCs",
        "colab_type": "code",
        "outputId": "b0f238ae-2a29-492b-b067-d8ededf3ff9f",
        "colab": {
          "base_uri": "https://localhost:8080/",
          "height": 462
        }
      },
      "source": [
        "from sklearn.metrics import accuracy_score\n",
        "from tensorflow.keras.models import load_model\n",
        "from tensorflow.keras.utils import to_categorical\n",
        "from tensorflow.keras.utils import plot_model\n",
        "from tensorflow.keras.models import Model, Sequential\n",
        "from tensorflow.keras.layers import Input, Reshape\n",
        "from tensorflow.keras.layers import Dense, Dropout\n",
        "from tensorflow.keras.layers import concatenate\n",
        "from tensorflow.keras.callbacks import ModelCheckpoint, CSVLogger\n",
        "from numpy import argmax\n",
        "from livelossplot import PlotLossesKeras\n",
        "import numpy as np\n",
        "import tensorflow as tf\n",
        "import os\n",
        " \n",
        "# load models from file\n",
        "def load_all_models(n_models):\n",
        "    all_models = list()\n",
        "    for i in range(n_models):\n",
        "        filename = '/content/drive/My Drive/Colab Notebooks/trial3_data/cnn_data_trial3data/model_' + str(i + 1) + '_short.h5'\n",
        "       \n",
        "        model = load_model(filename)        \n",
        "        all_models.append(model)\n",
        "        print('loaded %s' % filename)\n",
        "        \n",
        "    return all_models\n",
        "\n",
        "\n",
        "# define stacked model from multiple member input models\n",
        "def define_stacked_model(members):\n",
        "    # update all layers in all models to not be trainable\n",
        "    for i in range(len(members)):\n",
        "        model = members[i]\n",
        "        for j,layer in enumerate(model.layers):\n",
        "            # rename to avoid 'unique layer name' issue\n",
        "            layer._name = 'ensemble_' + str(i+1) + '_' + layer.name\n",
        "            print(layer.name)\n",
        "            \n",
        "    for i in range(len(members)):\n",
        "        model = members[i]\n",
        "        for layer in model.layers:       \n",
        "            # make not trainable\n",
        "            layer.trainable = False\n",
        "            \n",
        "            \n",
        "    #members[0] = reshape_output_layer(1)\n",
        "            \n",
        "    # define multi-headed input\n",
        "    ensemble_visible = [model.input for model in members]\n",
        "    \n",
        "    # concatenate merge output from each model\n",
        "    ensemble_outputs = [model.output for model in members]\n",
        "    \n",
        "    merge = concatenate(ensemble_outputs, axis=-1)\n",
        "    hidden = Dense(128, activation='relu')(merge)\n",
        "    second = Dropout(0.8)(hidden)\n",
        "    output = Dense(61, activation='softmax')(second)\n",
        "\n",
        "    model = Model(inputs=ensemble_visible, outputs=output)\n",
        "\n",
        "    # plot graph of ensemble\n",
        "    plot_model(model, show_shapes=True, to_file='/content/drive/My Drive/Colab Notebooks/stack/stack_model_graph5.png')\n",
        "    # compile\n",
        "    model.compile(loss='categorical_crossentropy', optimizer='adam', metrics=['accuracy'])\n",
        "    return model\n",
        "\n",
        "# fit a stacked model\n",
        "def fit_stacked_model(model, inputX, inputy, validX, validy):\n",
        "    \n",
        "    X = [inputX for _ in range(len(model.input))]\n",
        "    X_v = [validX for _ in range(len(model.input))]\n",
        "    \n",
        "    checkpoint_path = \"/content/drive/My Drive/Colab Notebooks/stack/cpCombined5-{epoch:04d}.ckpt\"\n",
        "    checkpoint_dir = os.path.dirname(checkpoint_path)\n",
        "    cp_callback = tf.keras.callbacks.ModelCheckpoint(\n",
        "    checkpoint_path, monitor='val_loss',mode='min', verbose=1, save_best_only=True)\n",
        "    \n",
        "    csv_logger = CSVLogger('/content/drive/My Drive/Colab Notebooks/stack/training5.log', append=True, separator=',')\n",
        "    model.load_weights('/content/drive/My Drive/Colab Notebooks/stack/cpCombined5-0030.ckpt')\n",
        "    # fit model\n",
        "    history = model.fit(X, inputy, epochs=200, initial_epoch = 30, verbose=1, validation_data=(X_v, Y1_valid), callbacks=[cp_callback, csv_logger, PlotLossesKeras()])\n",
        "    return history\n",
        "\n",
        "# make a prediction with a stacked model\n",
        "def predict_stacked_model(model, inputX):\n",
        "    #inputX = inputX.reshape((inputX.shape[0], inputX.shape[1], inputX.shape[2], 1))\n",
        "    # prepare input data\n",
        "    X = [inputX for _ in range(len(model.input))]\n",
        "     \n",
        "    # make prediction\n",
        "    return model.predict(X, verbose=0)\n",
        "\n",
        "# load all models\n",
        "n_members = 3\n",
        "members = load_all_models(n_members)\n",
        "print('Loaded %d models' % len(members))\n",
        "\n",
        "# define ensemble model\n",
        "stacked_model = define_stacked_model(members)\n",
        "\n",
        "# fit stacked model on train dataset\n",
        "history = fit_stacked_model(stacked_model, X1_train, Y1_train, X1_valid, Y1_train)\n"
      ],
      "execution_count": 0,
      "outputs": [
        {
          "output_type": "display_data",
          "data": {
            "image/png": "[encoded data removed]",
            "text/plain": [
              "<Figure size 864x576 with 2 Axes>"
            ]
          },
          "metadata": {
            "tags": []
          }
        },
        {
          "output_type": "stream",
          "text": [
            "Log-loss (cost function):\n",
            "training   (min:    0.484, max:    0.556, cur:    0.495)\n",
            "validation (min:    0.712, max:    0.781, cur:    0.778)\n",
            "\n",
            "Accuracy:\n",
            "training   (min:    0.860, max:    0.869, cur:    0.867)\n",
            "validation (min:    0.816, max:    0.827, cur:    0.825)\n",
            "\b\b\b\b\b\b\b\b\b\b\b\b\b\b\b\b\b\b\b\b\b\b\b\b\b\b\b\b\b\b\b\b\b\b\b\b\b\b\b\b\b\b\b\b\b\b\b\b\b\b\b\b\b\b\b\b\b\b\b\b\b\b\b\b\b\b\b\b\b\b\b\b\b\b\b\b\b\b\b\b\b\r8630/8630 [==============================] - 137s 16ms/sample - loss: 0.4949 - acc: 0.8673 - val_loss: 0.7775 - val_acc: 0.8248\n"
          ],
          "name": "stdout"
        }
      ]
    },
    {
      "cell_type": "code",
      "metadata": {
        "id": "EJNLOh-cb2d_",
        "colab_type": "code",
        "colab": {}
      },
      "source": [
        "import requests\n",
        "\n",
        "def telegram(message):\n",
        "\n",
        "    bot_token = '923260274:AAHyCqG6jpPI_xo0x2wJvhGVA_oeUnMf41Y'\n",
        "    bot_chatID = '763781536'\n",
        "    send = 'https://api.telegram.org/bot' + bot_token + '/sendMessage?chat_id=' + bot_chatID + '&parse_mode=Markdown&text=' + message\n",
        "    try:\n",
        "        response = requests.get(send)\n",
        "        response.raise_for_status()\n",
        "    except requests.exceptions.RequestException as err:\n",
        "        print (\"OOps: Something Else\",err)\n",
        "    except requests.exceptions.HTTPError as errh:\n",
        "        print (\"Http Error:\",errh)\n",
        "    except requests.exceptions.ConnectionError as errc:\n",
        "        print (\"Error Connecting:\",errc)\n",
        "    except requests.exceptions.Timeout as errt:\n",
        "        print (\"Timeout Error:\",errt)  \n",
        "    return response.json()\n",
        "\n",
        "\n",
        "telegram('stack cnn done')"
      ],
      "execution_count": 0,
      "outputs": []
    },
    {
      "cell_type": "code",
      "metadata": {
        "id": "wwYnY-49mJKn",
        "colab_type": "code",
        "outputId": "e7c126f4-b61c-45d3-bb5f-8eeaa6f8cea1",
        "colab": {
          "base_uri": "https://localhost:8080/",
          "height": 326
        }
      },
      "source": [
        "# make predictions and evaluate\n",
        "from tensorflow.keras.models import load_model\n",
        "from sklearn.metrics import accuracy_score\n",
        "from tensorflow.keras.utils import to_categorical\n",
        "from tensorflow.keras.utils import plot_model\n",
        "from tensorflow.keras.models import Model, Sequential\n",
        "from tensorflow.keras.layers import Input, Reshape\n",
        "from tensorflow.keras.layers import Dense, Dropout\n",
        "from tensorflow.keras.layers import concatenate\n",
        "from tensorflow.keras.callbacks import ModelCheckpoint, CSVLogger\n",
        "from numpy import argmax\n",
        "import numpy as np\n",
        "import tensorflow as tf\n",
        "import os\n",
        "\n",
        "#stacked_model.save(\"/content/drive/My Drive/Colab Notebooks/stack/cpCombined-final.ckpt\")\n",
        "model = load_model(\"/content/drive/My Drive/Colab Notebooks/stack/cpCombined5-0050.ckpt\")\n",
        "\n",
        "X_test, y_test = get_valid_data(mode=\"test\")\n",
        "\n",
        "X1_test = X_test.reshape(-1, 46, 500, 1)\n",
        "Y1_test = y_test.reshape(-1, 61)\n",
        "\n",
        "# make a prediction with a stacked model\n",
        "def predict_stacked_model(model, inputX):\n",
        "    #inputX = inputX.reshape((inputX.shape[0], inputX.shape[1], inputX.shape[2], 1))\n",
        "    # prepare input data\n",
        "    X = [inputX for _ in range(len(model.input))]\n",
        "     \n",
        "    # make prediction\n",
        "    return model.predict(X, verbose=0)\n",
        "\n",
        "yhat = predict_stacked_model(model, X1_test)\n",
        "#yhat = predict_stacked_model(stacked_model, X1_test)\n",
        "yhat = argmax(yhat, axis=1)\n",
        "\n",
        "temp = np.where(Y1_test==1)\n",
        "print(temp)\n",
        "temp = temp[1]\n",
        "Y1_test_temp = temp\n",
        "\n",
        "acc = accuracy_score(Y1_test_temp, yhat)\n",
        "print('Stacked Test Accuracy: %.3f' % acc)"
      ],
      "execution_count": 0,
      "outputs": [
        {
          "output_type": "stream",
          "text": [
            "WARNING:tensorflow:From /usr/local/lib/python3.6/dist-packages/tensorflow/python/ops/init_ops.py:97: calling GlorotUniform.__init__ (from tensorflow.python.ops.init_ops) with dtype is deprecated and will be removed in a future version.\n",
            "Instructions for updating:\n",
            "Call initializer instance with the dtype argument instead of passing it to the constructor\n",
            "WARNING:tensorflow:From /usr/local/lib/python3.6/dist-packages/tensorflow/python/ops/init_ops.py:1251: calling VarianceScaling.__init__ (from tensorflow.python.ops.init_ops) with dtype is deprecated and will be removed in a future version.\n",
            "Instructions for updating:\n",
            "Call initializer instance with the dtype argument instead of passing it to the constructor\n",
            "WARNING:tensorflow:From /usr/local/lib/python3.6/dist-packages/tensorflow/python/ops/init_ops.py:97: calling Zeros.__init__ (from tensorflow.python.ops.init_ops) with dtype is deprecated and will be removed in a future version.\n",
            "Instructions for updating:\n",
            "Call initializer instance with the dtype argument instead of passing it to the constructor\n",
            "WARNING:tensorflow:From /usr/local/lib/python3.6/dist-packages/tensorflow/python/ops/init_ops.py:97: calling Ones.__init__ (from tensorflow.python.ops.init_ops) with dtype is deprecated and will be removed in a future version.\n",
            "Instructions for updating:\n",
            "Call initializer instance with the dtype argument instead of passing it to the constructor\n",
            "WARNING:tensorflow:Large dropout rate: 0.8 (>0.5). In TensorFlow 2.x, dropout() uses dropout rate instead of keep_prob. Please ensure that this is intended.\n",
            "WARNING:tensorflow:Large dropout rate: 0.8 (>0.5). In TensorFlow 2.x, dropout() uses dropout rate instead of keep_prob. Please ensure that this is intended.\n",
            "WARNING:tensorflow:Large dropout rate: 0.8 (>0.5). In TensorFlow 2.x, dropout() uses dropout rate instead of keep_prob. Please ensure that this is intended.\n",
            "(array([   0,    1,    2, ..., 4312, 4313, 4314]), array([22, 22, 22, ..., 14, 14, 14]))\n",
            "Stacked Test Accuracy: 0.808\n"
          ],
          "name": "stdout"
        }
      ]
    },
    {
      "cell_type": "code",
      "metadata": {
        "id": "2hj7TUXfmb88",
        "colab_type": "code",
        "colab": {}
      },
      "source": [
        "# testing the usual way\n",
        "inputX = X1_test\n",
        "#inputX = X1_test.reshape((X1_test.shape[0], X1_test.shape[1], X1_test.shape[2], 1))\n",
        "X = [inputX for _ in range(len(model.input))]     \n",
        "test_loss, test_acc = model.evaluate(X, Y1_test, verbose = 0)\n",
        "\n",
        "inputX = X1_valid\n",
        "#inputX = X1_valid.reshape((X1_valid.shape[0], X1_valid.shape[1], X1_valid.shape[2], 1))\n",
        "X = [inputX for _ in range(len(model.input))] \n",
        "valid_loss, valid_acc = model.evaluate(X, Y1_valid, verbose = 0)\n",
        "\n",
        "inputX = X1_train\n",
        "#inputX = X1_train.reshape((X1_train.shape[0], X1_train.shape[1], X1_train.shape[2], 1))\n",
        "X = [inputX for _ in range(len(model.input))] \n",
        "train_loss, train_acc = model.evaluate(X, Y1_train, verbose = 0)"
      ],
      "execution_count": 0,
      "outputs": []
    },
    {
      "cell_type": "code",
      "metadata": {
        "id": "PHILm8fNmg4j",
        "colab_type": "code",
        "outputId": "e73eb6ac-4004-42b7-80e3-c97048ac7119",
        "colab": {
          "base_uri": "https://localhost:8080/",
          "height": 153
        }
      },
      "source": [
        "\n",
        "message = \"stack combined \\nacc\" + str(acc) + \"\\ntest_loss :\" + str(test_loss) + \"\\n\" + \"test_acc :\" + str(test_acc)  + \"\\n\" + \"valid_loss :\" + str(valid_loss) + \"\\n\" + \"valid_acc :\" + str(valid_acc) + \"\\n\" + \"train_loss :\" + str(train_loss) + \"\\n\" + \"train_acc :\" + str(train_acc) \n",
        "import requests\n",
        "\n",
        "def telegram(message):\n",
        "\n",
        "    bot_token = '923260274:AAHyCqG6jpPI_xo0x2wJvhGVA_oeUnMf41Y'\n",
        "    bot_chatID = '763781536'\n",
        "    send = 'https://api.telegram.org/bot' + bot_token + '/sendMessage?chat_id=' + bot_chatID + '&parse_mode=Markdown&text=' + message\n",
        "    try:\n",
        "        response = requests.get(send)\n",
        "        response.raise_for_status()\n",
        "    except requests.exceptions.RequestException as err:\n",
        "        print (\"OOps: Something Else\",err)\n",
        "    except requests.exceptions.HTTPError as errh:\n",
        "        print (\"Http Error:\",errh)\n",
        "    except requests.exceptions.ConnectionError as errc:\n",
        "        print (\"Error Connecting:\",errc)\n",
        "    except requests.exceptions.Timeout as errt:\n",
        "        print (\"Timeout Error:\",errt)  \n",
        "    return response.json()\n",
        "\n",
        "telegram(message)\n",
        "print(message)"
      ],
      "execution_count": 0,
      "outputs": [
        {
          "output_type": "stream",
          "text": [
            "stack combined \n",
            "acc0.8078794901506373\n",
            "test_loss :0.8409560288642538\n",
            "test_acc :0.8078795\n",
            "valid_loss :0.7119445093364594\n",
            "valid_acc :0.82085747\n",
            "train_loss :0.3829513181057065\n",
            "train_acc :0.88319814\n"
          ],
          "name": "stdout"
        }
      ]
    }
  ]
}