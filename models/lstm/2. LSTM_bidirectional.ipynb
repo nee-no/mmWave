{
 "cells": [
  {
   "cell_type": "code",
   "execution_count": 1,
   "metadata": {},
   "outputs": [
    {
     "name": "stdout",
     "output_type": "stream",
     "text": [
      "(863, 5, 23000) (863, 5, 61) (863, 5, 23000) (863, 5, 61)\n"
     ]
    }
   ],
   "source": [
    "# no repeat in train data and loss dropout\n",
    "import numpy as np\n",
    "import os\n",
    "import csv\n",
    "import re\n",
    "import sys\n",
    "import math\n",
    "from sklearn.preprocessing import LabelBinarizer\n",
    "import tensorflow as tf\n",
    "from sklearn.utils import shuffle\n",
    "\n",
    "import random\n",
    "\n",
    "def generate_array(mode=\"train\"):\n",
    "    #global current_timestep\n",
    "    while True:\n",
    "        in_folder = os.path.join(\"/home\",\"englab5510\",\"PycharmProjects\",\"mmWave1\",\"LSTM_notebooks\", \"lstm_data\")\n",
    "        reorder = 0\n",
    "\n",
    "        if(mode==\"train\"):\n",
    "            current_timestep = random.randint(0, 39)\n",
    "            if current_timestep >=31:\n",
    "                reorder = 1\n",
    "            else:\n",
    "                reorder = 0\n",
    "\n",
    "        elif(mode==\"valid\"):\n",
    "            current_timestep = random.randint(40, 45)\n",
    "        \n",
    "        elif(mode==\"test\"):\n",
    "            current_timestep = random.randint(45, 49)\n",
    "      \n",
    "        x = np.load(os.path.join(in_folder, \"in_step{}.npy\".format(current_timestep)))\n",
    "        y = np.load(os.path.join(in_folder, \"out_step{}.npy\".format(current_timestep)))\n",
    "\n",
    "        if reorder:\n",
    "            max_num = 40\n",
    "            repeat_last = 10 - (max_num - current_timestep)\n",
    "\n",
    "            X = x[:,0:(10-repeat_last),:]\n",
    "            Y = y[:,0:(10-repeat_last),:]\n",
    "            X_new = np.zeros((X.shape[0], 10, X.shape[2]))\n",
    "            Y_new = np.zeros((Y.shape[0], 10, Y.shape[2]))\n",
    "\n",
    "            for k in range(0, X.shape[0]):\n",
    "                for i in range(0, X_new.shape[1]):\n",
    "                    if i < X.shape[1]:\n",
    "                        X_new[k,i,:] = X[k,i,:]\n",
    "                        Y_new[k,i,:] = Y[k,i,:]\n",
    "                    else:\n",
    "                        X_new[k,i,:] = X_new[k,i-1,:]\n",
    "                        Y_new[k,i,:] = Y_new[k,i-1,:]\n",
    "            X = X_new\n",
    "            Y = Y_new\n",
    "\n",
    "            X, Y = shuffle(x, y)\n",
    "\n",
    "            yield (X,Y)\n",
    "\n",
    "X_valid = np.load(os.path.join(\"/home\",\"englab5510\",\"PycharmProjects\",\"mmWave1\",\"LSTM_notebooks\", \"lstm_data\",\"in_step40.npy\"))\n",
    "Y_valid = np.load(os.path.join(\"/home\",\"englab5510\",\"PycharmProjects\",\"mmWave1\",\"LSTM_notebooks\", \"lstm_data\", \"out_step40.npy\"))\n",
    "X_valid = X_valid[:,0:5]\n",
    "Y_valid = Y_valid[:,0:5]\n",
    "X_test = np.load(os.path.join(\"/home\",\"englab5510\",\"PycharmProjects\",\"mmWave1\",\"LSTM_notebooks\", \"lstm_data\", \"in_step45.npy\"))\n",
    "Y_test = np.load(os.path.join(\"/home\",\"englab5510\",\"PycharmProjects\",\"mmWave1\",\"LSTM_notebooks\", \"lstm_data\", \"out_step45.npy\"))\n",
    "X_test = X_test[:,0:5]\n",
    "Y_test = Y_test[:,0:5]\n",
    "\n",
    "print(X_valid.shape, Y_valid.shape, X_test.shape, Y_test.shape)"
   ]
  },
  {
   "cell_type": "code",
   "execution_count": 2,
   "metadata": {},
   "outputs": [
    {
     "data": {
      "text/plain": [
       "<Figure size 1200x800 with 2 Axes>"
      ]
     },
     "metadata": {},
     "output_type": "display_data"
    },
    {
     "name": "stdout",
     "output_type": "stream",
     "text": [
      "Log-loss (cost function):\n",
      "training   (min:    0.010, max:    2.111, cur:    0.010)\n",
      "validation (min:    0.021, max:    1.763, cur:    0.021)\n",
      "\n",
      "Accuracy:\n",
      "training   (min:    0.570, max:    0.998, cur:    0.998)\n",
      "validation (min:    0.575, max:    0.995, cur:    0.995)\n",
      "\b\b\b\b\b\b\b\b\b\b\b\b\b\b\b\b\b\b\b\b\b\b\b\b\b\b\b\b\b\b\b\b\b\b\b\b\b\b\b\b\b\b\b\b\b\b\b\b\b\b\b\b\b\b\b\b\b\b\b\b\b\b\b\b\b\b\b\b\b\b\b\b\b\b\b\b\b\b\b\r",
      "863/863 [==============================] - 936s 1s/step - loss: 0.0096 - acc: 0.9984 - val_loss: 0.0210 - val_acc: 0.9949\n"
     ]
    }
   ],
   "source": [
    "from tensorflow.keras.models import Sequential\n",
    "from tensorflow.keras.layers import LSTM, Dropout, TimeDistributed, Activation, Dense, Bidirectional\n",
    "from tensorflow.keras.optimizers import SGD, Adam, Adadelta\n",
    "from tensorflow.keras.callbacks import EarlyStopping\n",
    "from tensorflow.keras.callbacks import ModelCheckpoint, CSVLogger\n",
    "from livelossplot import PlotLossesKeras\n",
    "\n",
    "model = Sequential()\n",
    "model.add(Bidirectional(LSTM(40, return_sequences=True), input_shape=(None,23000)))\n",
    "model.add(Bidirectional(LSTM(20, return_sequences=True)))\n",
    "model.add(TimeDistributed(Dense(128, activation=\"relu\")))\n",
    "model.add(TimeDistributed(Dropout(0.5)))\n",
    "model.add(TimeDistributed(Dense(61, activation=\"softmax\")))\n",
    "model.compile(loss=tf.keras.losses.categorical_crossentropy,\n",
    "              #optimizer=tf.keras.optimizers.Adadelta(lr=1.0),\n",
    "              optimizer=tf.keras.optimizers.SGD(lr=0.0052),\n",
    "              #optimizer=tf.keras.optimizers.Adam(),\n",
    "              metrics=['accuracy'])\n",
    "model.summary()\n",
    "\n",
    "es = EarlyStopping(monitor='val_loss', mode='min', verbose=1, patience=20)\n",
    "\n",
    "checkpoint_path = \"/home/englab5510/PycharmProjects/mmWave1/reinforcement_data/trial3/lstm_models/cp-{epoch:04d}.ckpt\"\n",
    "checkpoint_dir = os.path.dirname(checkpoint_path)\n",
    "\n",
    "cp_callback = tf.keras.callbacks.ModelCheckpoint(\n",
    "    checkpoint_path, monitor='val_loss',mode='min', verbose=1, save_best_only=True)\n",
    "csv_logger = CSVLogger('/home/englab5510/PycharmProjects/mmWave1/reinforcement_data/trial3/cnn_models/training.log', append=True, separator=',')\n",
    "\n",
    "#model.load_weights('/content/drive/My Drive/Colab Notebooks/lstm_models/cp-0105.ckpt')\n",
    "\n",
    "history = model.fit_generator(\n",
    "    generate_array(mode=\"train\"),\n",
    "    steps_per_epoch = 863,\n",
    "    validation_data = (X_valid, Y_valid),\n",
    "    validation_steps = 863,\n",
    "    epochs = 300,\n",
    "    verbose=1,\n",
    "    shuffle=True,\n",
    "    initial_epoch =0,\n",
    "    callbacks=[es, cp_callback, csv_logger, PlotLossesKeras()])\n",
    "    #validation_data=(X_test, y_test)"
   ]
  },
  {
   "cell_type": "code",
   "execution_count": 3,
   "metadata": {},
   "outputs": [
    {
     "data": {
      "image/png": "[encoded data removed]",
      "text/plain": [
       "<Figure size 432x288 with 1 Axes>"
      ]
     },
     "metadata": {
      "needs_background": "light"
     },
     "output_type": "display_data"
    },
    {
     "data": {
      "text/plain": [
       "<matplotlib.legend.Legend at 0x7f4cf6736ba8>"
      ]
     },
     "execution_count": 3,
     "metadata": {},
     "output_type": "execute_result"
    },
    {
     "data": {
      "image/png": "[encoded data removed]",
      "text/plain": [
       "<Figure size 432x288 with 1 Axes>"
      ]
     },
     "metadata": {
      "needs_background": "light"
     },
     "output_type": "display_data"
    }
   ],
   "source": [
    "import matplotlib.pyplot as plt\n",
    "\n",
    "val_acc = history.history['val_acc']\n",
    "acc = history.history['acc']\n",
    "loss = history.history['loss']\n",
    "val_loss = history.history['val_loss']\n",
    "\n",
    "epoch_num = np.arange(0, len(val_acc), dtype=int)\n",
    "plot1, = plt.plot(epoch_num, acc)\n",
    "plot2, = plt.plot(epoch_num, val_acc)\n",
    "plt.legend([plot1, plot2],['training accuracy', 'validation accuracy'])\n",
    "plt.show()\n",
    "plot1, = plt.plot(epoch_num, loss)\n",
    "plot2, = plt.plot(epoch_num, val_loss)\n",
    "plt.legend([plot1, plot2],['training loss', 'validation loss'])\n"
   ]
  },
  {
   "cell_type": "code",
   "execution_count": 4,
   "metadata": {},
   "outputs": [
    {
     "name": "stdout",
     "output_type": "stream",
     "text": [
      "training loss: 0.0034454935815763743\n",
      "training accuracy: 0.999591294749449\n",
      "validation loss: 0.020967099008388897\n",
      "validation accuracy: 0.9949014990796634\n",
      "testing loss: 0.5637243234683023\n",
      "testing accuracy: 0.9001158752143038\n"
     ]
    },
    {
     "data": {
      "text/plain": [
       "{'ok': True,\n",
       " 'result': {'message_id': 132,\n",
       "  'from': {'id': 923260274,\n",
       "   'is_bot': True,\n",
       "   'first_name': 'NeeNo',\n",
       "   'username': 'NeeNoKibot'},\n",
       "  'chat': {'id': 763781536,\n",
       "   'first_name': 'Shalom',\n",
       "   'username': 'NeeNoKi',\n",
       "   'type': 'private'},\n",
       "  'date': 1569781109,\n",
       "  'text': 'LSTM englab5510\\ntestloss :0.5637243234683023\\ntestacc :0.9001158752143038\\nvalidloss :0.020967099008388897\\nvalidacc :0.9949014990796634\\ntrainloss :0.0034454935815763743\\ntrainacc :0.999591294749449',\n",
       "  'entities': [{'offset': 20, 'length': 29, 'type': 'italic'},\n",
       "   {'offset': 78, 'length': 32, 'type': 'italic'},\n",
       "   {'offset': 139, 'length': 33, 'type': 'italic'}]}}"
      ]
     },
     "execution_count": 4,
     "metadata": {},
     "output_type": "execute_result"
    }
   ],
   "source": [
    "import requests\n",
    "\n",
    "def telegram(message):\n",
    "\n",
    "    bot_token = '923260274:AAHyCqG6jpPI_xo0x2wJvhGVA_oeUnMf41Y'\n",
    "    bot_chatID = '763781536'\n",
    "    send = 'https://api.telegram.org/bot' + bot_token + '/sendMessage?chat_id=' + bot_chatID + '&parse_mode=Markdown&text=' + message\n",
    "    try:\n",
    "        response = requests.get(send)\n",
    "        response.raise_for_status()\n",
    "    except requests.exceptions.RequestException as err:\n",
    "        print (\"OOps: Something Else\",err)\n",
    "    except requests.exceptions.HTTPError as errh:\n",
    "        print (\"Http Error:\",errh)\n",
    "    except requests.exceptions.ConnectionError as errc:\n",
    "        print (\"Error Connecting:\",errc)\n",
    "    except requests.exceptions.Timeout as errt:\n",
    "        print (\"Timeout Error:\",errt)  \n",
    "    return response.json()\n",
    "\n",
    "telegram(\"LSTM bidirectional done!\")\n",
    "\n",
    "train_result = model.evaluate_generator(\n",
    "    generate_array(mode=\"train\"), \n",
    "    steps = 863,\n",
    "    verbose=0)\n",
    "print('training loss:',train_result[0])\n",
    "print('training accuracy:', train_result[1])\n",
    "\n",
    "valid_result = model.evaluate(X_valid, Y_valid, verbose=0)\n",
    "print('validation loss:',valid_result[0])\n",
    "print('validation accuracy:', valid_result[1])\n",
    "\n",
    "test_result = model.evaluate(X_test, Y_test, verbose=0)\n",
    "print('testing loss:',test_result[0])\n",
    "print('testing accuracy:', test_result[1])\n",
    "\n",
    "message = \"LSTM englab5510\\n\" + \"test_loss :\" + str(test_result[0]) + \"\\n\" + \"test_acc :\" + str(test_result[1])  + \"\\n\" + \"valid_loss :\" + str(valid_result[0]) + \"\\n\" + \"valid_acc :\" + str(valid_result[1]) + \"\\n\" + \"train_loss :\" + str(train_result[0]) + \"\\n\" + \"train_acc :\" + str(train_result[1]) \n",
    "telegram(message)"
   ]
  },
  {
   "cell_type": "code",
   "execution_count": 5,
   "metadata": {},
   "outputs": [],
   "source": [
    "val_acc = history.history['val_acc']\n",
    "acc = history.history['acc']\n",
    "loss = history.history['loss']\n",
    "val_loss = history.history['val_loss']\n",
    "\n",
    "np.savez('/home/englab5510/PycharmProjects/mmWave1/reinforcement_data/trial3/cnn_models/val_acc.npz', acc=acc, loss=loss, val_acc=val_acc, val_loss=val_loss)"
   ]
  }
 ],
 "metadata": {
  "kernelspec": {
   "display_name": "Python 3",
   "language": "python",
   "name": "python3"
  },
  "language_info": {
   "codemirror_mode": {
    "name": "ipython",
    "version": 3
   },
   "file_extension": ".py",
   "mimetype": "text/x-python",
   "name": "python",
   "nbconvert_exporter": "python",
   "pygments_lexer": "ipython3",
   "version": "3.7.3"
  }
 },
 "nbformat": 4,
 "nbformat_minor": 2
}
